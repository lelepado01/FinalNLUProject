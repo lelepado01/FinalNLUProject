{
  "cells": [
    {
      "cell_type": "markdown",
      "metadata": {
        "id": "WHEyWj7DCx_c"
      },
      "source": [
        "# NLU Intent Classification & Slot Filling"
      ]
    },
    {
      "cell_type": "code",
      "execution_count": null,
      "metadata": {
        "colab": {
          "base_uri": "https://localhost:8080/"
        },
        "id": "mnM6jPDg1gCe",
        "outputId": "42845169-a8b3-4236-d8a5-c5b632cbd300"
      },
      "outputs": [
        {
          "output_type": "stream",
          "name": "stdout",
          "text": [
            "NVIDIA-SMI has failed because it couldn't communicate with the NVIDIA driver. Make sure that the latest NVIDIA driver is installed and running.\n",
            "\n"
          ]
        }
      ],
      "source": [
        "!nvidia-smi"
      ]
    },
    {
      "cell_type": "code",
      "execution_count": null,
      "metadata": {
        "colab": {
          "base_uri": "https://localhost:8080/"
        },
        "id": "_uRqithOv9Ym",
        "outputId": "3e08930f-5c49-4a06-fdaf-760e673c1cd5"
      },
      "outputs": [
        {
          "output_type": "stream",
          "name": "stdout",
          "text": [
            "Mounted at /content/drive\n"
          ]
        }
      ],
      "source": [
        "from google.colab import drive\n",
        "drive.mount('/content/drive')"
      ]
    },
    {
      "cell_type": "code",
      "execution_count": null,
      "metadata": {
        "id": "E9pxBwKVPAd2"
      },
      "outputs": [],
      "source": [
        "import os\n",
        "device = 'cuda:0' # cuda:0 means we are using the GPU with id 0, if you have multiple GPU\n",
        "os.environ['CUDA_LAUNCH_BLOCKING'] = \"1\" # Used to report errors on CUDA side\n",
        "PAD_TOKEN = 0"
      ]
    },
    {
      "cell_type": "code",
      "execution_count": null,
      "metadata": {
        "id": "jJztmYRcPiZM"
      },
      "outputs": [],
      "source": [
        "import json\n",
        "from pprint import pprint\n",
        "import random\n",
        "import numpy as np\n",
        "from sklearn.model_selection import train_test_split\n",
        "from collections import Counter\n",
        "import matplotlib.pyplot as plt\n",
        "from tqdm import tqdm\n",
        "import torch.optim as optim"
      ]
    },
    {
      "cell_type": "markdown",
      "metadata": {
        "id": "zCO6OoUOCsc3"
      },
      "source": [
        "# Data Utils"
      ]
    },
    {
      "cell_type": "code",
      "execution_count": null,
      "metadata": {
        "id": "oZbFHOOUqMtp"
      },
      "outputs": [],
      "source": [
        "def load_data(path):\n",
        "    '''\n",
        "        input: path/to/data\n",
        "        output: json \n",
        "    '''\n",
        "    dataset = []\n",
        "    with open(path) as f:\n",
        "        dataset = json.loads(f.read())\n",
        "    return dataset"
      ]
    },
    {
      "cell_type": "code",
      "execution_count": null,
      "metadata": {
        "id": "lB0jl7Z4Rcth"
      },
      "outputs": [],
      "source": [
        "from collections import Counter\n",
        "\n",
        "class Lang():\n",
        "    def __init__(self, words, intents, slots, cutoff=0):\n",
        "        self.word2id = self.w2id(words, cutoff=cutoff, unk=True)\n",
        "        self.slot2id = self.lab2id(slots)\n",
        "        self.intent2id = self.lab2id(intents, pad=False)\n",
        "        self.id2word = {v:k for k, v in self.word2id.items()}\n",
        "        self.id2slot = {v:k for k, v in self.slot2id.items()}\n",
        "        self.id2intent = {v:k for k, v in self.intent2id.items()}\n",
        "        \n",
        "    def w2id(self, elements, cutoff=None, unk=True):\n",
        "        vocab = {'pad': PAD_TOKEN}\n",
        "        if unk:\n",
        "            vocab['unk'] = len(vocab)\n",
        "        count = Counter(elements)\n",
        "        for k, v in count.items():\n",
        "            if v > cutoff:\n",
        "                vocab[k] = len(vocab)\n",
        "        return vocab\n",
        "    \n",
        "    def lab2id(self, elements, pad=True):\n",
        "        vocab = {}\n",
        "        if pad:\n",
        "            vocab['pad'] = PAD_TOKEN\n",
        "        for elem in elements:\n",
        "                vocab[elem] = len(vocab)\n",
        "        return vocab"
      ]
    },
    {
      "cell_type": "code",
      "execution_count": null,
      "metadata": {
        "id": "jNAkF9uRRjx9"
      },
      "outputs": [],
      "source": [
        "import torch\n",
        "import torch.utils.data as data\n",
        "\n",
        "class IntentsAndSlots (data.Dataset):\n",
        "    # Mandatory methods are __init__, __len__ and __getitem__\n",
        "    def __init__(self, dataset, lang, unk='unk'):\n",
        "        self.utterances = []\n",
        "        self.intents = []\n",
        "        self.slots = []\n",
        "        self.unk = unk\n",
        "        \n",
        "        for x in dataset:\n",
        "            self.utterances.append(x['utterance'])\n",
        "            self.slots.append(x['slots'])\n",
        "            self.intents.append(x['intent'])\n",
        "\n",
        "        self.utt_ids = self.mapping_seq(self.utterances, lang.word2id)\n",
        "        self.slot_ids = self.mapping_seq(self.slots, lang.slot2id)\n",
        "        self.intent_ids = self.mapping_lab(self.intents, lang.intent2id)\n",
        "\n",
        "    def __len__(self):\n",
        "        return len(self.utterances)\n",
        "\n",
        "    def __getitem__(self, idx):\n",
        "        utt = torch.Tensor(self.utt_ids[idx])\n",
        "        slots = torch.Tensor(self.slot_ids[idx])\n",
        "        intent = self.intent_ids[idx]\n",
        "        sample = {'utterance': utt, 'slots': slots, 'intent': intent}\n",
        "        return sample\n",
        "    \n",
        "    # Auxiliary methods\n",
        "    def mapping_lab(self, data, mapper):\n",
        "        return [mapper[x] if x in mapper else mapper[self.unk] for x in data]\n",
        "    \n",
        "    def mapping_seq(self, data, mapper): # Map sequences to number\n",
        "        res = []\n",
        "        for seq in data:\n",
        "            tmp_seq = []\n",
        "            for x in seq.split():\n",
        "                if x in mapper:\n",
        "                    tmp_seq.append(mapper[x])\n",
        "                else:\n",
        "                    tmp_seq.append(mapper[self.unk])\n",
        "            res.append(tmp_seq)\n",
        "        return res\n"
      ]
    },
    {
      "cell_type": "code",
      "execution_count": null,
      "metadata": {
        "id": "C9du3GJ4Rs8W"
      },
      "outputs": [],
      "source": [
        "from torch.utils.data import DataLoader\n",
        "\n",
        "def collate_fn(data):\n",
        "    def merge(sequences):\n",
        "        '''\n",
        "        merge from batch * sent_len to batch * max_len \n",
        "        '''\n",
        "        lengths = [len(seq) for seq in sequences]\n",
        "        max_len = 1 if max(lengths)==0 else max(lengths)\n",
        "        # Pad token is zero in our case\n",
        "        # So we create a matrix full of PAD_TOKEN (i.e. 0) with the shape \n",
        "        # batch_size X maximum length of a sequence\n",
        "        padded_seqs = torch.LongTensor(len(sequences),max_len).fill_(PAD_TOKEN)\n",
        "        for i, seq in enumerate(sequences):\n",
        "            end = lengths[i]\n",
        "            padded_seqs[i, :end] = seq # We copy each sequence into the matrix\n",
        "        # print(padded_seqs)\n",
        "        padded_seqs = padded_seqs.detach()  # We remove these tensors from the computational graph\n",
        "        return padded_seqs, lengths\n",
        "    # Sort data by seq lengths\n",
        "    data.sort(key=lambda x: len(x['utterance']), reverse=True) \n",
        "    new_item = {}\n",
        "    for key in data[0].keys():\n",
        "        new_item[key] = [d[key] for d in data]\n",
        "    # We just need one length for packed pad seq, since len(utt) == len(slots)\n",
        "    src_utt, _ = merge(new_item['utterance'])\n",
        "    y_slots, y_lengths = merge(new_item[\"slots\"])\n",
        "    intent = torch.LongTensor(new_item[\"intent\"])\n",
        "    \n",
        "    src_utt = src_utt#.to(device) # We load the Tensor on our seleceted device\n",
        "    y_slots = y_slots#.to(device)\n",
        "    intent = intent#.to(device)\n",
        "    y_lengths = torch.LongTensor(y_lengths)#.to(device)\n",
        "    \n",
        "    new_item[\"utterances\"] = src_utt\n",
        "    new_item[\"intents\"] = intent\n",
        "    new_item[\"y_slots\"] = y_slots\n",
        "    new_item[\"slots_len\"] = y_lengths\n",
        "    return new_item\n"
      ]
    },
    {
      "cell_type": "code",
      "execution_count": null,
      "metadata": {
        "id": "MfSVj9KsqZpj"
      },
      "outputs": [],
      "source": [
        "def get_lang(train_raw, dev_raw, test_raw):\n",
        "    words = sum([x['utterance'].split() for x in train_raw], []) # No set() since we want to compute the cutoff\n",
        "    corpus = train_raw + dev_raw + test_raw # We do not wat unk labels, \n",
        "                                            # however this depends on the research purpose\n",
        "    slots = set(sum([line['slots'].split() for line in corpus],[]))\n",
        "    intents = set([line['intent'] for line in corpus])\n",
        "\n",
        "    return Lang(words, intents, slots, cutoff=0)"
      ]
    },
    {
      "cell_type": "markdown",
      "metadata": {
        "id": "f0OpLuhznjpR"
      },
      "source": [
        "# Data Loading"
      ]
    },
    {
      "cell_type": "markdown",
      "source": [
        "Load raw data from json files, both for test and train set.\n",
        "\n",
        "The SNIPS dataset also contains a dedicated file for validation set, while this has to be obtained for ATIS, from a subset of the train set."
      ],
      "metadata": {
        "id": "IH4lJS21mQ0J"
      }
    },
    {
      "cell_type": "code",
      "execution_count": null,
      "metadata": {
        "id": "OP-FThM7n3D6"
      },
      "outputs": [],
      "source": [
        "tmp_train_raw_ATIS = load_data(os.path.join('./drive/MyDrive/data/','atis','train.json'))\n",
        "test_raw_ATIS = load_data(os.path.join('./drive/MyDrive/data/','atis','test.json'))"
      ]
    },
    {
      "cell_type": "code",
      "execution_count": null,
      "metadata": {
        "id": "1-BIXZjEoZ_x"
      },
      "outputs": [],
      "source": [
        "train_raw_SNIPS   = load_data(os.path.join('./drive/MyDrive/data/','snips','train.json'))\n",
        "test_raw_SNIPS = load_data(os.path.join('./drive/MyDrive/data/','snips','test.json'))\n",
        "dev_raw_SNIPS = load_data(os.path.join('./drive/MyDrive/data/','snips','valid.json'))"
      ]
    },
    {
      "cell_type": "code",
      "execution_count": null,
      "metadata": {
        "id": "_hToFRUlo-7L"
      },
      "outputs": [],
      "source": [
        "# Firt we get the 10% of dataset, then we compute the percentage of these examples \n",
        "# on the training set which is around 11% \n",
        "portion = round(((len(tmp_train_raw_ATIS) + len(test_raw_ATIS)) * 0.10)/(len(tmp_train_raw_ATIS)),2)\n",
        "\n",
        "\n",
        "intents_ATIS = [x['intent'] for x in tmp_train_raw_ATIS] # We stratify on intents\n",
        "count_y_ATIS = Counter(intents_ATIS)\n",
        "\n",
        "Y_ATIS = []\n",
        "X_ATIS = []\n",
        "mini_Train_ATIS = []\n",
        "\n",
        "for id_y, y in enumerate(intents_ATIS):\n",
        "    # IT MAKES NO SENSE TO PUT IN DEV SET INTENTS THAT ONLY APPEAR ONCE\n",
        "    if count_y_ATIS[y] > 1: # Some intents have only one instance, we put them in training\n",
        "        X_ATIS.append(tmp_train_raw_ATIS[id_y])\n",
        "        Y_ATIS.append(y)\n",
        "    else:\n",
        "        mini_Train_ATIS.append(tmp_train_raw_ATIS[id_y])\n",
        "# Random Stratify\n",
        "X_train_ATIS, X_dev_ATIS, y_train_ATIS, y_dev_ATIS = train_test_split(X_ATIS, Y_ATIS, test_size=portion, \n",
        "                                                    random_state=42, \n",
        "                                                    shuffle=True,\n",
        "                                                    stratify=Y_ATIS)\n",
        "X_train_ATIS.extend(mini_Train_ATIS)\n",
        "train_raw_ATIS = X_train_ATIS\n",
        "dev_raw_ATIS = X_dev_ATIS\n",
        "\n",
        "y_test_ATIS = [x['intent'] for x in test_raw_ATIS]"
      ]
    },
    {
      "cell_type": "code",
      "execution_count": null,
      "metadata": {
        "id": "kMDIu6o0qRbh"
      },
      "outputs": [],
      "source": [
        "lang_ATIS = get_lang(train_raw_ATIS, dev_raw_ATIS, test_raw_ATIS)\n",
        "lang_SNIPS = get_lang(train_raw_SNIPS, dev_raw_SNIPS, test_raw_SNIPS)"
      ]
    },
    {
      "cell_type": "code",
      "execution_count": null,
      "metadata": {
        "id": "BEu7GY_KRl8s"
      },
      "outputs": [],
      "source": [
        "train_dataset_ATIS = IntentsAndSlots(train_raw_ATIS, lang_ATIS)\n",
        "dev_dataset_ATIS = IntentsAndSlots(dev_raw_ATIS, lang_ATIS)\n",
        "test_dataset_ATIS = IntentsAndSlots(test_raw_ATIS, lang_ATIS)"
      ]
    },
    {
      "cell_type": "code",
      "execution_count": null,
      "metadata": {
        "id": "A2NlChTUpiyD"
      },
      "outputs": [],
      "source": [
        "train_dataset_SNIPS = IntentsAndSlots(train_raw_SNIPS, lang_SNIPS)\n",
        "dev_dataset_SNIPS = IntentsAndSlots(dev_raw_SNIPS, lang_SNIPS)\n",
        "test_dataset_SNIPS = IntentsAndSlots(test_raw_SNIPS, lang_SNIPS)"
      ]
    },
    {
      "cell_type": "code",
      "execution_count": null,
      "metadata": {
        "id": "EHFcx5IVppVk"
      },
      "outputs": [],
      "source": [
        "# Dataloader instantiation\n",
        "train_loader_ATIS = DataLoader(train_dataset_ATIS, batch_size=128, collate_fn=collate_fn,  shuffle=True)\n",
        "dev_loader_ATIS = DataLoader(dev_dataset_ATIS, batch_size=64, collate_fn=collate_fn)\n",
        "test_loader_ATIS = DataLoader(test_dataset_ATIS, batch_size=64, collate_fn=collate_fn)"
      ]
    },
    {
      "cell_type": "code",
      "execution_count": null,
      "metadata": {
        "id": "VRo3ToCrno7l"
      },
      "outputs": [],
      "source": [
        "# Dataloader instantiation\n",
        "train_loader_SNIPS = DataLoader(train_dataset_SNIPS, batch_size=128, collate_fn=collate_fn,  shuffle=True)\n",
        "dev_loader_SNIPS = DataLoader(dev_dataset_SNIPS, batch_size=64, collate_fn=collate_fn)\n",
        "test_loader_SNIPS = DataLoader(test_dataset_SNIPS, batch_size=64, collate_fn=collate_fn)"
      ]
    },
    {
      "cell_type": "code",
      "execution_count": null,
      "metadata": {
        "id": "5mGyFJIXg85d"
      },
      "outputs": [],
      "source": [
        "out_slot_ATIS = len(lang_ATIS.slot2id)\n",
        "out_int_ATIS = len(lang_ATIS.intent2id)\n",
        "vocab_len_ATIS = len(lang_ATIS.word2id)\n",
        "\n",
        "out_slot_SNIPS = len(lang_SNIPS.slot2id)\n",
        "out_int_SNIPS = len(lang_SNIPS.intent2id)\n",
        "vocab_len_SNIPS = len(lang_SNIPS.word2id)"
      ]
    },
    {
      "cell_type": "markdown",
      "metadata": {
        "id": "0Gqu80ZnSfeg"
      },
      "source": [
        "# Datasets Stats"
      ]
    },
    {
      "cell_type": "markdown",
      "source": [
        "To describe each dataset in the report, the number of samples is computed, as well as the first item of the train set is printed "
      ],
      "metadata": {
        "id": "7ij9SMCjnS6v"
      }
    },
    {
      "cell_type": "code",
      "execution_count": null,
      "metadata": {
        "id": "sCEuy0-LSel5"
      },
      "outputs": [],
      "source": [
        "def get_dataset_stats(train, test, valid=None):\n",
        "    print('Train samples:', len(train))\n",
        "    if valid is not None: \n",
        "      print('Validation samples:', len(valid))\n",
        "    print('Test samples:', len(test))\n",
        "    pprint(train[0])"
      ]
    },
    {
      "cell_type": "code",
      "execution_count": null,
      "metadata": {
        "colab": {
          "base_uri": "https://localhost:8080/"
        },
        "id": "rCFPfRpwTUJP",
        "outputId": "cc7ac253-b286-4bc7-9cfb-37f0eac0d3b2"
      },
      "outputs": [
        {
          "output_type": "stream",
          "name": "stdout",
          "text": [
            "Train samples: 4381\n",
            "Validation samples: 597\n",
            "Test samples: 893\n",
            "{'intent': 'aircraft',\n",
            " 'slots': 'O O O O O B-airline_name O O B-fromloc.city_name O '\n",
            "          'B-toloc.city_name B-depart_time.time_relative B-depart_time.time '\n",
            "          'I-depart_time.time',\n",
            " 'utterance': 'what type of aircraft does eastern fly from atlanta to denver '\n",
            "              'before 6 pm'}\n"
          ]
        }
      ],
      "source": [
        "get_dataset_stats(train_raw_ATIS, test_raw_ATIS, dev_raw_ATIS)"
      ]
    },
    {
      "cell_type": "code",
      "execution_count": null,
      "metadata": {
        "colab": {
          "base_uri": "https://localhost:8080/"
        },
        "id": "HPLmOptLTcYt",
        "outputId": "6f3e9137-daa3-417a-d1d2-600ab1102fbe"
      },
      "outputs": [
        {
          "output_type": "stream",
          "name": "stdout",
          "text": [
            "Train samples: 13084\n",
            "Validation samples: 700\n",
            "Test samples: 700\n",
            "{'intent': 'PlayMusic',\n",
            " 'slots': 'O O B-artist O B-album O B-service I-service',\n",
            " 'utterance': 'listen to westbam alumb allergic on google music'}\n"
          ]
        }
      ],
      "source": [
        "get_dataset_stats(train_raw_SNIPS, test_raw_SNIPS, dev_raw_SNIPS)"
      ]
    },
    {
      "cell_type": "markdown",
      "metadata": {
        "id": "BfxYB_yRCQj2"
      },
      "source": [
        "# Conll.py"
      ]
    },
    {
      "cell_type": "code",
      "execution_count": null,
      "metadata": {
        "id": "mD4a6sxFSChf"
      },
      "outputs": [],
      "source": [
        "import re\n",
        "\n",
        "\"\"\"\n",
        "Modified version of https://pypi.org/project/conlleval/\n",
        "\"\"\"\n",
        "\n",
        "\n",
        "def stats():\n",
        "    return {'cor': 0, 'hyp': 0, 'ref': 0}\n",
        "\n",
        "\n",
        "def evaluate(ref, hyp, otag='O'):\n",
        "    # evaluation for NLTK\n",
        "\t#print(len(ref), len(hyp))\n",
        "\taligned = align_hyp(ref, hyp)\n",
        "\treturn conlleval(aligned, otag=otag)\n",
        "\n",
        "\n",
        "def align_hyp(ref, hyp):\n",
        "    # align references and hypotheses for evaluation\n",
        "    # add last element of token tuple in hyp to ref\n",
        "    if len(ref) != len(hyp):\n",
        "        raise ValueError(\"Size Mismatch: ref: {} & hyp: {}\".format(len(ref), len(hyp)))\n",
        "\n",
        "    out = []\n",
        "    for i in range(len(ref)):\n",
        "        if len(ref[i]) != len(hyp[i]):\n",
        "            raise ValueError(\"Size Mismatch: ref: {} & hyp: {}\".format(len(ref), len(hyp)))\n",
        "        out.append([(*ref[i][j], hyp[i][j][-1]) for j in range(len(ref[i]))])\n",
        "    return out\n",
        "\n",
        "\n",
        "def conlleval(data, otag='O'):\n",
        "    # token, segment & class level counts for TP, TP+FP, TP+FN\n",
        "    tok = stats()\n",
        "    seg = stats()\n",
        "    cls = {}\n",
        "\n",
        "    for sent in data:\n",
        "\n",
        "        prev_ref = otag      # previous reference label\n",
        "        prev_hyp = otag      # previous hypothesis label\n",
        "        prev_ref_iob = None  # previous reference label IOB\n",
        "        prev_hyp_iob = None  # previous hypothesis label IOB\n",
        "\n",
        "        in_correct = False  # currently processed chunks is correct until now\n",
        "\n",
        "        for token in sent:\n",
        "\n",
        "            hyp_iob, hyp = parse_iob(token[-1])\n",
        "            ref_iob, ref = parse_iob(token[-2])\n",
        "\n",
        "            ref_e = is_eoc(ref, ref_iob, prev_ref, prev_ref_iob, otag)\n",
        "            hyp_e = is_eoc(hyp, hyp_iob, prev_hyp, prev_hyp_iob, otag)\n",
        "\n",
        "            ref_b = is_boc(ref, ref_iob, prev_ref, prev_ref_iob, otag)\n",
        "            hyp_b = is_boc(hyp, hyp_iob, prev_hyp, prev_hyp_iob, otag)\n",
        "\n",
        "            if not cls.get(ref) and ref:\n",
        "                cls[ref] = stats()\n",
        "\n",
        "            if not cls.get(hyp) and hyp:\n",
        "                cls[hyp] = stats()\n",
        "\n",
        "            # segment-level counts\n",
        "            if in_correct:\n",
        "                if ref_e and hyp_e and prev_hyp == prev_ref:\n",
        "                    in_correct = False\n",
        "                    seg['cor'] += 1\n",
        "                    cls[prev_ref]['cor'] += 1\n",
        "\n",
        "                elif ref_e != hyp_e or hyp != ref:\n",
        "                    in_correct = False\n",
        "\n",
        "            if ref_b and hyp_b and hyp == ref:\n",
        "                in_correct = True\n",
        "\n",
        "            if ref_b:\n",
        "                seg['ref'] += 1\n",
        "                cls[ref]['ref'] += 1\n",
        "\n",
        "            if hyp_b:\n",
        "                seg['hyp'] += 1\n",
        "                cls[hyp]['hyp'] += 1\n",
        "\n",
        "            # token-level counts\n",
        "            if ref == hyp and ref_iob == hyp_iob:\n",
        "                tok['cor'] += 1\n",
        "\n",
        "            tok['ref'] += 1\n",
        "\n",
        "            prev_ref = ref\n",
        "            prev_hyp = hyp\n",
        "            prev_ref_iob = ref_iob\n",
        "            prev_hyp_iob = hyp_iob\n",
        "\n",
        "        if in_correct:\n",
        "            seg['cor'] += 1\n",
        "            cls[prev_ref]['cor'] += 1\n",
        "\n",
        "    return summarize(seg, cls)\n",
        "\n",
        "\n",
        "def parse_iob(t):\n",
        "    m = re.match(r'^([^-]*)-(.*)$', t)\n",
        "    return m.groups() if m else (t, None)\n",
        "\n",
        "\n",
        "def is_boc(lbl, iob, prev_lbl, prev_iob, otag='O'):\n",
        "    \"\"\"\n",
        "    is beginning of a chunk\n",
        "    supports: IOB, IOBE, BILOU schemes\n",
        "        - {E,L} --> last\n",
        "        - {S,U} --> unit\n",
        "    :param lbl: current label\n",
        "    :param iob: current iob\n",
        "    :param prev_lbl: previous label\n",
        "    :param prev_iob: previous iob\n",
        "    :param otag: out-of-chunk label\n",
        "    :return:\n",
        "    \"\"\"\n",
        "    boc = False\n",
        "\n",
        "    boc = True if iob in ['B', 'S', 'U'] else boc\n",
        "    boc = True if iob in ['E', 'L'] and prev_iob in ['E', 'L', 'S', otag] else boc\n",
        "    boc = True if iob == 'I' and prev_iob in ['S', 'L', 'E', otag] else boc\n",
        "\n",
        "    boc = True if lbl != prev_lbl and iob != otag and iob != '.' else boc\n",
        "\n",
        "    # these chunks are assumed to have length 1\n",
        "    boc = True if iob in ['[', ']'] else boc\n",
        "\n",
        "    return boc\n",
        "\n",
        "\n",
        "def is_eoc(lbl, iob, prev_lbl, prev_iob, otag='O'):\n",
        "    \"\"\"\n",
        "    is end of a chunk\n",
        "    supports: IOB, IOBE, BILOU schemes\n",
        "        - {E,L} --> last\n",
        "        - {S,U} --> unit\n",
        "    :param lbl: current label\n",
        "    :param iob: current iob\n",
        "    :param prev_lbl: previous label\n",
        "    :param prev_iob: previous iob\n",
        "    :param otag: out-of-chunk label\n",
        "    :return:\n",
        "    \"\"\"\n",
        "    eoc = False\n",
        "\n",
        "    eoc = True if iob in ['E', 'L', 'S', 'U'] else eoc\n",
        "    eoc = True if iob == 'B' and prev_iob in ['B', 'I'] else eoc\n",
        "    eoc = True if iob in ['S', 'U'] and prev_iob in ['B', 'I'] else eoc\n",
        "\n",
        "    eoc = True if iob == otag and prev_iob in ['B', 'I'] else eoc\n",
        "\n",
        "    eoc = True if lbl != prev_lbl and iob != otag and prev_iob != '.' else eoc\n",
        "\n",
        "    # these chunks are assumed to have length 1\n",
        "    eoc = True if iob in ['[', ']'] else eoc\n",
        "\n",
        "    return eoc\n",
        "\n",
        "\n",
        "def score(cor_cnt, hyp_cnt, ref_cnt):\n",
        "    # precision\n",
        "    p = 1 if hyp_cnt == 0 else cor_cnt / hyp_cnt\n",
        "    # recall\n",
        "    r = 0 if ref_cnt == 0 else cor_cnt / ref_cnt\n",
        "    # f-measure (f1)\n",
        "    f = 0 if p+r == 0 else (2*p*r)/(p+r)\n",
        "    return {\"p\": p, \"r\": r, \"f\": f, \"s\": ref_cnt}\n",
        "\n",
        "\n",
        "def summarize(seg, cls):\n",
        "    # class-level\n",
        "    res = {lbl: score(cls[lbl]['cor'], cls[lbl]['hyp'], cls[lbl]['ref']) for lbl in set(cls.keys())}\n",
        "    # micro\n",
        "    res.update({\"total\": score(seg.get('cor', 0), seg.get('hyp', 0), seg.get('ref', 0))})\n",
        "    return res\n",
        "\n",
        "\n",
        "def read_corpus_conll(corpus_file, fs=\"\\t\"):\n",
        "    \"\"\"\n",
        "    read corpus in CoNLL format\n",
        "    :param corpus_file: corpus in conll format\n",
        "    :param fs: field separator\n",
        "    :return: corpus\n",
        "    \"\"\"\n",
        "    featn = None  # number of features for consistency check\n",
        "    sents = []  # list to hold words list sequences\n",
        "    words = []  # list to hold feature tuples\n",
        "\n",
        "    for line in open(corpus_file):\n",
        "        line = line.strip()\n",
        "        if len(line.strip()) > 0:\n",
        "            feats = tuple(line.strip().split(fs))\n",
        "            if not featn:\n",
        "                featn = len(feats)\n",
        "            elif featn != len(feats) and len(feats) != 0:\n",
        "                raise ValueError(\"Unexpected number of columns {} ({})\".format(len(feats), featn))\n",
        "\n",
        "            words.append(feats)\n",
        "        else:\n",
        "            if len(words) > 0:\n",
        "                sents.append(words)\n",
        "                words = []\n",
        "    return sents\n",
        "\n",
        "\n",
        "def get_chunks(corpus_file, fs=\"\\t\", otag=\"O\"):\n",
        "    sents = read_corpus_conll(corpus_file, fs=fs)\n",
        "    return set([parse_iob(token[-1])[1] for sent in sents for token in sent if token[-1] != otag])"
      ]
    },
    {
      "cell_type": "markdown",
      "metadata": {
        "id": "IO83hCbAKGiO"
      },
      "source": [
        "# Plotting Losses and Confusion Matrix"
      ]
    },
    {
      "cell_type": "markdown",
      "source": [
        "To plot the training and validation loss, as well as the confusion matrices for the test phase, the two following auxiliary functions are used."
      ],
      "metadata": {
        "id": "lusRgPrsoLaj"
      }
    },
    {
      "cell_type": "code",
      "execution_count": null,
      "metadata": {
        "id": "-2P09JuzKGBe"
      },
      "outputs": [],
      "source": [
        "def plot_losses(epochs, losses_train, losses_dev):\n",
        "    plt.figure(num = 3, figsize=(8, 5)).patch.set_facecolor('white')\n",
        "    plt.title('Train and Dev Loss')\n",
        "    plt.xlabel('Epochs')\n",
        "    plt.ylabel('Loss')\n",
        "    plt.plot(epochs, losses_train, label='Train Loss')\n",
        "    plt.plot(epochs, losses_dev, label='Dev Loss')\n",
        "    plt.legend()\n",
        "    plt.show()"
      ]
    },
    {
      "cell_type": "code",
      "execution_count": null,
      "metadata": {
        "id": "X14SC_6w8kfe"
      },
      "outputs": [],
      "source": [
        "import matplotlib\n",
        "\n",
        "def plot_confusion_matrix(data, label=\"Confusion Matrix\"):\n",
        "    plt.figure(figsize = (10,10))\n",
        "    plt.title(label)\n",
        "    plt.imshow(data, norm = matplotlib.colors.Normalize(vmin = 0, vmax = 255))"
      ]
    },
    {
      "cell_type": "markdown",
      "metadata": {
        "id": "CFUz-wL9-sxi"
      },
      "source": [
        "# Early Stopping"
      ]
    },
    {
      "cell_type": "code",
      "execution_count": null,
      "metadata": {
        "id": "ZOTdG5yy-x8K"
      },
      "outputs": [],
      "source": [
        "class EarlyStopping(): \n",
        "    def __init__(self, max_patience): \n",
        "        self.max_patience = max_patience \n",
        "        self.patience = max_patience\n",
        "        self.best = 0\n",
        "\n",
        "    def reset(self): \n",
        "        self.patience = self.max_patience\n",
        "        self.best = 0\n",
        "\n",
        "    def update(self, value): \n",
        "        if value > self.best:\n",
        "            self.best = value\n",
        "        else:\n",
        "            self.patience -= 1\n",
        "        \n",
        "        if self.patience <= 0:\n",
        "            return False \n",
        "\n",
        "        return True"
      ]
    },
    {
      "cell_type": "markdown",
      "metadata": {
        "id": "_sfLELAWR-2j"
      },
      "source": [
        "# Train and Test Loops"
      ]
    },
    {
      "cell_type": "markdown",
      "source": [
        "Simple train and test loop taken from the baseline code for the assigment "
      ],
      "metadata": {
        "id": "jQl-KNpzofdp"
      }
    },
    {
      "cell_type": "code",
      "execution_count": null,
      "metadata": {
        "id": "F8c5qwuAR9kb"
      },
      "outputs": [],
      "source": [
        "def train_loop(data, optimizer, criterion_slots, criterion_intents, model):\n",
        "    model.train()\n",
        "    loss_array = []\n",
        "    for i,sample in enumerate(data):\n",
        "        optimizer.zero_grad() # Zeroing the gradient\n",
        "        slots, intent = model(sample['utterances'], sample['slots_len'])\n",
        "        loss_intent = criterion_intents(intent, sample['intents'])\n",
        "        loss_slot = criterion_slots(slots, sample['y_slots'])\n",
        "        loss = loss_intent+loss_slot # In joint training we sum the losses. \n",
        "        loss_array.append(loss.item())\n",
        "        loss.backward() # Compute the gradient, deleting the computational graph\n",
        "        optimizer.step() # Update the weights\n",
        "    return loss_array"
      ]
    },
    {
      "cell_type": "code",
      "execution_count": null,
      "metadata": {
        "id": "_CAmEKzWSHe1"
      },
      "outputs": [],
      "source": [
        "def eval_loop(data, criterion_slots, criterion_intents, model, lang):\n",
        "    model.eval()\n",
        "    loss_array = []\n",
        "    \n",
        "    ref_intents = []\n",
        "    hyp_intents = []\n",
        "    \n",
        "    ref_slots = []\n",
        "    hyp_slots = []\n",
        "    #softmax = nn.Softmax(dim=1) # Use Softmax if you need the actual probability\n",
        "    with torch.no_grad(): # It used to avoid the creation of computational graph\n",
        "        total_slot_labels = [x for x in range (len(lang.id2slot))]\n",
        "        total_intent_labels = [v for k, v in lang.id2intent.items()]\n",
        "        cm_slot = np.zeros((len(total_slot_labels), len(total_slot_labels)))\n",
        "        cm_intent = np.zeros((len(total_intent_labels), len(total_intent_labels)))\n",
        "        for sample in data:\n",
        "            slots, intents = model(sample['utterances'], sample['slots_len'])\n",
        "            loss_intent = criterion_intents(intents, sample['intents'])\n",
        "            loss_slot = criterion_slots(slots, sample['y_slots'])\n",
        "            loss = loss_intent + loss_slot \n",
        "            loss_array.append(loss.item())\n",
        "            # Intent inference\n",
        "            # Get the highest probable class\n",
        "            out_intents = [lang.id2intent[x] \n",
        "                           for x in torch.argmax(intents, dim=1).tolist()] \n",
        "            gt_intents = [lang.id2intent[x] for x in sample['intents'].tolist()]\n",
        "            ref_intents.extend(gt_intents)\n",
        "            hyp_intents.extend(out_intents)\n",
        "            # Slot inference \n",
        "            output_slots = torch.argmax(slots, dim=1)\n",
        "\n",
        "            ref_int_labels = []\n",
        "            hyp_int_labels = []\n",
        "\n",
        "            for id_seq, seq in enumerate(output_slots):\n",
        "                length = sample['slots_len'].tolist()[id_seq]\n",
        "                utt_ids = sample['utterance'][id_seq][:length].tolist()\n",
        "                gt_ids = sample['y_slots'][id_seq].tolist()\n",
        "                gt_slots = [lang.id2slot[elem] for elem in gt_ids[:length]]\n",
        "                utterance = [lang.id2word[elem] for elem in utt_ids]\n",
        "                to_decode = seq[:length].tolist()\n",
        "                ref_slots.append([(utterance[id_el], elem) for id_el, elem in enumerate(gt_slots)])\n",
        "                tmp_seq = []\n",
        "                for id_el, elem in enumerate(to_decode):\n",
        "                  tmp_seq.append((utterance[id_el], lang.id2slot[elem]))\n",
        "                  ref_int_labels.extend(gt_ids[:length])\n",
        "                  hyp_int_labels.extend(to_decode)\n",
        "                    \n",
        "                hyp_slots.append(tmp_seq)\n",
        "\n",
        "        X = [lang.id2slot[x] for x in ref_int_labels]\n",
        "        Y = [lang.id2slot[x] for x in hyp_int_labels]\n",
        "        labels = [lang.id2slot[x] for x in total_slot_labels]\n",
        "\n",
        "        cm_slot += confusion_matrix(X, Y,labels = labels)\n",
        "        cm_intent += confusion_matrix(ref_intents, hyp_intents,labels = total_intent_labels)\n",
        "    \n",
        "    try:            \n",
        "        results = evaluate(ref_slots, hyp_slots)\n",
        "    except Exception as ex:\n",
        "        # Sometimes the model predics a class that is not in REF\n",
        "        results = None\n",
        "    \n",
        "    #results = sklearn.metrics.f1_score([lang.id2slot[x] for x in ref_int_labels], [lang.id2slot[x] for x in hyp_int_labels], average = 'weighted')\n",
        "    \n",
        "    report_intent = classification_report(ref_intents, hyp_intents, \n",
        "                                          zero_division=False, output_dict=True)\n",
        "    return results, report_intent, loss_array"
      ]
    },
    {
      "cell_type": "markdown",
      "metadata": {
        "id": "00Xe6IXuCOMo"
      },
      "source": [
        "# Eval loop with confusion matrices"
      ]
    },
    {
      "cell_type": "markdown",
      "source": [
        "Modified evaluation loop to also keep track of confusion matrix information, in four lists:\n",
        "\n",
        "```\n",
        "\tref_intents = intent ground truth\n",
        "\thyp_intents = intent hypothesis from model\n",
        "\tref_slots = slots ground truth\n",
        "\thyp_slots = slots hypothesis from model\n",
        "\n",
        "```"
      ],
      "metadata": {
        "id": "lIFL9YlWosLn"
      }
    },
    {
      "cell_type": "code",
      "execution_count": null,
      "metadata": {
        "id": "-OMHU3P6CMP0"
      },
      "outputs": [],
      "source": [
        "\n",
        "from sklearn.metrics import classification_report, confusion_matrix\n",
        "\n",
        "def eval_loop_wcm(data, criterion_slots, criterion_intents, model, lang):\n",
        "\tmodel.eval()\n",
        "\tloss_array = []\n",
        "\t\n",
        "\tref_intents = []\n",
        "\thyp_intents = []\n",
        "\t\n",
        "\tref_slots = []\n",
        "\thyp_slots = []\n",
        "\n",
        "\tslot_label_ids = [sl for sl in range (len(lang.id2slot))]\n",
        "\tintent_labels = [v for k, v in lang.id2intent.items()]\n",
        "\tconf_mat_slots = np.zeros((len(slot_label_ids), len(slot_label_ids)))\n",
        "\tconf_mat_intents = np.zeros((len(intent_labels), len(intent_labels)))\n",
        "\t\n",
        "\twith torch.no_grad(): # It used to avoid the creation of computational graph\n",
        "\t\tfor sample in data:\n",
        "\t\t\tslots, intents = model(sample['utterances'], sample['slots_len'])\n",
        "\n",
        "\t\t\tloss_intent = criterion_intents(intents, sample['intents'])\n",
        "\t\t\tloss_slot = criterion_slots(slots, sample['y_slots'])\n",
        "\t\t\tloss = loss_intent + loss_slot \n",
        "\t\t\tloss_array.append(loss.item())\n",
        "\t\t\t# Intent inference\n",
        "\t\t\t# Get the highest probable class\n",
        "\t\t\tout_intents = [lang.id2intent[x] for x in torch.argmax(intents, dim=1).tolist()] \n",
        "\t\t\tgt_intents = [lang.id2intent[x] for x in sample['intents'].tolist()]\n",
        "\t\t\tref_intents.extend(gt_intents)\n",
        "\t\t\thyp_intents.extend(out_intents)\n",
        "\t \n",
        "\t\t\tref_intent_labels = []\n",
        "\t\t\thyp_intent_labels = []\n",
        "\t\t\t\n",
        "\t\t\t# Slot inference \n",
        "\t\t\toutput_slots = torch.argmax(slots, dim=1)\n",
        "\t\t\tfor id_seq, seq in enumerate(output_slots):\n",
        "\t\t\t\tlength = sample['slots_len'].tolist()[id_seq]\n",
        "\t\t\t\tutt_ids = sample['utterance'][id_seq][:length].tolist()\n",
        "\t\t\t\tgt_ids = sample['y_slots'][id_seq].tolist()\n",
        "\t\t\t\tgt_slots = [lang.id2slot[elem] for elem in gt_ids[:length]]\n",
        "\t\t\t\tutterance = [lang.id2word[elem] for elem in utt_ids]\n",
        "\t\t\t\tto_decode = seq[:length].tolist()\n",
        "\t\t\t\tref_slots.append([(utterance[id_el], elem) for id_el, elem in enumerate(gt_slots)])\n",
        "\t\t\t\ttmp_seq = []\n",
        "\t\t\t\t\n",
        "\t\t\t\tfor id_el, elem in enumerate(to_decode):\n",
        "\t\t\t\t\ttmp_seq.append((utterance[id_el], lang.id2slot[elem]))\n",
        "\t\t\t\t\tref_intent_labels.extend(gt_ids[:length])\n",
        "\t\t\t\t\thyp_intent_labels.extend(to_decode)\n",
        "\t\n",
        "\t\t\t\thyp_slots.append(tmp_seq)\n",
        "\n",
        "\t\t\tX = [lang.id2slot[x] for x in ref_intent_labels]\n",
        "\t\t\tY = [lang.id2slot[x] for x in hyp_intent_labels]\n",
        "\t\t\tslot_labels = [lang.id2slot[x] for x in slot_label_ids]\n",
        "\n",
        "\t\t\tconf_mat_slots += confusion_matrix(X, Y,labels = slot_labels)\n",
        "\t\t\tconf_mat_intents += confusion_matrix(ref_intents, hyp_intents,labels = intent_labels)\n",
        "\n",
        "\ttry:         \n",
        "\t\tresults = evaluate(ref_slots, hyp_slots)\n",
        "\texcept Exception as ex:\n",
        "  \t# Sometimes the model predics a class that is not in REF\n",
        "\t\tprint(ex)\n",
        "\t\tref_s = set([x[1] for x in ref_slots])\n",
        "\t\thyp_s = set([x[1] for x in hyp_slots])\n",
        "\t\t\n",
        "\t\tprint(hyp_s.difference(ref_s))\n",
        "\t\tresults = []\n",
        "\t\t\n",
        "\treport_intent = classification_report(ref_intents, hyp_intents, zero_division=False, output_dict=True)\n",
        "\treturn results, report_intent, loss_array, conf_mat_slots, conf_mat_intents\n"
      ]
    },
    {
      "cell_type": "markdown",
      "metadata": {
        "id": "RBc6mXUiyRzY"
      },
      "source": [
        "# Train and eval function for 5 iterations"
      ]
    },
    {
      "cell_type": "markdown",
      "source": [
        "Auxiliary function to train the same model five times depending on the type passed. \n",
        "\n",
        "Also prints intermediate results, and not just mean and variance, in case colab stops the execution."
      ],
      "metadata": {
        "id": "rwalBEnCpjiS"
      }
    },
    {
      "cell_type": "code",
      "execution_count": null,
      "metadata": {
        "id": "_lDf7pC2yXk6"
      },
      "outputs": [],
      "source": [
        "def train_5_times(model_type, train_loader, dev_loader, test_loader, lang): \n",
        "    hid_size = 200\n",
        "    emb_size = 300\n",
        "\n",
        "    lr = 0.0001 # learning rate\n",
        "    clip = 5 # Clip the gradient\n",
        "\n",
        "    out_slot = len(lang.slot2id)\n",
        "    out_int = len(lang.intent2id)\n",
        "    vocab_len = len(lang.word2id)\n",
        "\n",
        "    runs = 5\n",
        "    slot_f1s, intent_acc = [], []\n",
        "    for x in range(0, runs):\n",
        "        print(\"Run: \", x)\n",
        "        model = model_type(hid_size, out_slot, out_int, emb_size, vocab_len, pad_index=PAD_TOKEN)#.to(device)\n",
        "        model.apply(init_weights)\n",
        "\n",
        "        optimizer = optim.Adam(model.parameters(), lr=lr)\n",
        "        criterion_slots = nn.CrossEntropyLoss(ignore_index=PAD_TOKEN)#.to(device)\n",
        "        criterion_intents = nn.CrossEntropyLoss()#.to(device)\n",
        "        \n",
        "        n_epochs = 200\n",
        "        losses_train = []\n",
        "        losses_dev = []\n",
        "        sampled_epochs = []\n",
        "        \n",
        "        early_stop = EarlyStopping(2) # Using patience = 2 to speed up training\n",
        "        \n",
        "        for x in tqdm(range(1,n_epochs)):\n",
        "            loss = train_loop(train_loader, optimizer, criterion_slots, criterion_intents, model)\n",
        "            if x % 5 == 0:\n",
        "                sampled_epochs.append(x)\n",
        "                losses_train.append(np.asarray(loss).mean())\n",
        "                results_dev, intent_res, loss_dev = eval_loop(dev_loader, criterion_slots, criterion_intents, model, lang)\n",
        "                losses_dev.append(np.asarray(loss_dev).mean())\n",
        "                f1 = results_dev['total']['f']\n",
        "\n",
        "                if not early_stop.update(f1): \n",
        "                    early_stop.reset()\n",
        "                    break\n",
        "\n",
        "\n",
        "        results_test, intent_test, _ = eval_loop(test_loader, criterion_slots, criterion_intents, model, lang)\n",
        "        intent_acc.append(intent_test['accuracy'])\n",
        "        slot_f1s.append(results_test['total']['f'])\n",
        "\n",
        "        print(\"Intermediate Slot F1: \", results_test['total']['f'])\n",
        "        print(\"Intermediate v: \", intent_test['accuracy'])\n",
        "\n",
        "    slot_f1s = np.asarray(slot_f1s)\n",
        "    intent_acc = np.asarray(intent_acc)\n",
        "    print('Slot F1', round(slot_f1s.mean(),3), '+-', round(slot_f1s.std(),3))\n",
        "    print('Intent Acc', round(intent_acc.mean(), 3), '+-', round(slot_f1s.std(), 3))"
      ]
    },
    {
      "cell_type": "markdown",
      "metadata": {
        "id": "DQmgc1gRCcOf"
      },
      "source": [
        "# Baseline Model"
      ]
    },
    {
      "cell_type": "code",
      "execution_count": null,
      "metadata": {
        "id": "J2EQzByxRwNu"
      },
      "outputs": [],
      "source": [
        "import torch.nn as nn\n",
        "from torch.nn.utils.rnn import pack_padded_sequence, pad_packed_sequence\n",
        "\n",
        "class ModelIAS(nn.Module):\n",
        "\n",
        "    def __init__(self, hid_size, out_slot, out_int, emb_size, vocab_len, n_layer=1, pad_index=0):\n",
        "        super(ModelIAS, self).__init__()\n",
        "        # hid_size = Hidden size\n",
        "        # out_slot = number of slots (output size for slot filling)\n",
        "        # out_int = number of intents (ouput size for intent class)\n",
        "        # emb_size = word embedding size\n",
        "        \n",
        "        self.embedding = nn.Embedding(vocab_len, emb_size, padding_idx=pad_index)\n",
        "        \n",
        "        self.utt_encoder = nn.LSTM(emb_size, hid_size, n_layer, bidirectional=False)    \n",
        "        self.slot_out = nn.Linear(hid_size, out_slot)\n",
        "        self.intent_out = nn.Linear(hid_size, out_int)\n",
        "        self.dropout = nn.Dropout(0.1)\n",
        "        \n",
        "    def forward(self, utterance, seq_lengths):\n",
        "        # utterance.size() = batch_size X seq_len\n",
        "        utt_emb = self.embedding(utterance) # utt_emb.size() = batch_size X seq_len X emb_size\n",
        "        utt_emb = utt_emb.permute(1,0,2) # we need seq len first -> seq_len X batch_size X emb_size\n",
        "        \n",
        "        # pack_padded_sequence avoid computation over pad tokens reducing the computational cost\n",
        "        \n",
        "        packed_input = pack_padded_sequence(utt_emb, seq_lengths.cpu().numpy())\n",
        "        # Process the batch\n",
        "        packed_output, (last_hidden, cell) = self.utt_encoder(packed_input) \n",
        "        # Unpack the sequence\n",
        "        utt_encoded, input_sizes = pad_packed_sequence(packed_output)\n",
        "        # Get the last hidden state\n",
        "        last_hidden = last_hidden[-1,:,:]\n",
        "        # Compute slot logits\n",
        "        slots = self.slot_out(utt_encoded)\n",
        "        # Compute intent logits\n",
        "        intent = self.intent_out(last_hidden)\n",
        "        \n",
        "        # Slot size: seq_len, batch size, calsses \n",
        "        slots = slots.permute(1,2,0) # We need this for computing the loss\n",
        "        # Slot size: batch_size, classes, seq_len\n",
        "        return slots, intent"
      ]
    },
    {
      "cell_type": "code",
      "execution_count": null,
      "metadata": {
        "id": "OOjP6shURyoU"
      },
      "outputs": [],
      "source": [
        "def init_weights(mat):\n",
        "    for m in mat.modules():\n",
        "        if type(m) in [nn.GRU, nn.LSTM, nn.RNN]:\n",
        "            for name, param in m.named_parameters():\n",
        "                if 'weight_ih' in name:\n",
        "                    for idx in range(4):\n",
        "                        mul = param.shape[0]//4\n",
        "                        torch.nn.init.xavier_uniform_(param[idx*mul:(idx+1)*mul])\n",
        "                elif 'weight_hh' in name:\n",
        "                    for idx in range(4):\n",
        "                        mul = param.shape[0]//4\n",
        "                        torch.nn.init.orthogonal_(param[idx*mul:(idx+1)*mul])\n",
        "                elif 'bias' in name:\n",
        "                    param.data.fill_(0)\n",
        "        else:\n",
        "            if type(m) in [nn.Linear]:\n",
        "                torch.nn.init.uniform_(m.weight, -0.01, 0.01)\n",
        "                if m.bias != None:\n",
        "                    m.bias.data.fill_(0.01)"
      ]
    },
    {
      "cell_type": "markdown",
      "metadata": {
        "id": "PdanddaVrMZU"
      },
      "source": [
        "### ATIS Training and Testing of Baseline"
      ]
    },
    {
      "cell_type": "code",
      "execution_count": null,
      "metadata": {
        "id": "dyaWTM11R0_7"
      },
      "outputs": [],
      "source": [
        "hid_size = 200\n",
        "emb_size = 300\n",
        "\n",
        "lr = 0.0001 # learning rate\n",
        "clip = 5 # Clip the gradient\n",
        "\n",
        "out_slot_ATIS = len(lang_ATIS.slot2id)\n",
        "out_int_ATIS = len(lang_ATIS.intent2id)\n",
        "vocab_len_ATIS = len(lang_ATIS.word2id)\n",
        "\n",
        "model_ATIS = ModelIAS(hid_size, out_slot_ATIS, out_int_ATIS, emb_size, vocab_len_ATIS, pad_index=PAD_TOKEN)#.to(device)\n",
        "model_ATIS.apply(init_weights)\n",
        "\n",
        "optimizer = optim.Adam(model_ATIS.parameters(), lr=lr)\n",
        "criterion_slots = nn.CrossEntropyLoss(ignore_index=PAD_TOKEN)\n",
        "criterion_intents = nn.CrossEntropyLoss() # Because we do not have the pad token"
      ]
    },
    {
      "cell_type": "code",
      "execution_count": null,
      "metadata": {
        "colab": {
          "base_uri": "https://localhost:8080/",
          "height": 415
        },
        "id": "N6poQvVHSGBy",
        "outputId": "1a12eba0-7de6-4732-9b73-33b2afc82b26"
      },
      "outputs": [
        {
          "output_type": "stream",
          "name": "stderr",
          "text": [
            "  4%|▍         | 8/199 [01:07<26:55,  8.46s/it]\n"
          ]
        },
        {
          "output_type": "error",
          "ename": "KeyboardInterrupt",
          "evalue": "ignored",
          "traceback": [
            "\u001b[0;31m---------------------------------------------------------------------------\u001b[0m",
            "\u001b[0;31mKeyboardInterrupt\u001b[0m                         Traceback (most recent call last)",
            "\u001b[0;32m<ipython-input-34-773907118383>\u001b[0m in \u001b[0;36m<module>\u001b[0;34m\u001b[0m\n\u001b[1;32m      7\u001b[0m \u001b[0;34m\u001b[0m\u001b[0m\n\u001b[1;32m      8\u001b[0m \u001b[0;32mfor\u001b[0m \u001b[0mx\u001b[0m \u001b[0;32min\u001b[0m \u001b[0mtqdm\u001b[0m\u001b[0;34m(\u001b[0m\u001b[0mrange\u001b[0m\u001b[0;34m(\u001b[0m\u001b[0;36m1\u001b[0m\u001b[0;34m,\u001b[0m\u001b[0mn_epochs\u001b[0m\u001b[0;34m)\u001b[0m\u001b[0;34m)\u001b[0m\u001b[0;34m:\u001b[0m\u001b[0;34m\u001b[0m\u001b[0;34m\u001b[0m\u001b[0m\n\u001b[0;32m----> 9\u001b[0;31m     \u001b[0mloss\u001b[0m \u001b[0;34m=\u001b[0m \u001b[0mtrain_loop\u001b[0m\u001b[0;34m(\u001b[0m\u001b[0mtrain_loader_ATIS\u001b[0m\u001b[0;34m,\u001b[0m \u001b[0moptimizer\u001b[0m\u001b[0;34m,\u001b[0m \u001b[0mcriterion_slots\u001b[0m\u001b[0;34m,\u001b[0m \u001b[0mcriterion_intents\u001b[0m\u001b[0;34m,\u001b[0m \u001b[0mmodel_ATIS\u001b[0m\u001b[0;34m)\u001b[0m\u001b[0;34m\u001b[0m\u001b[0;34m\u001b[0m\u001b[0m\n\u001b[0m\u001b[1;32m     10\u001b[0m     \u001b[0;32mif\u001b[0m \u001b[0mx\u001b[0m \u001b[0;34m%\u001b[0m \u001b[0;36m5\u001b[0m \u001b[0;34m==\u001b[0m \u001b[0;36m0\u001b[0m\u001b[0;34m:\u001b[0m\u001b[0;34m\u001b[0m\u001b[0;34m\u001b[0m\u001b[0m\n\u001b[1;32m     11\u001b[0m         \u001b[0msampled_epochs\u001b[0m\u001b[0;34m.\u001b[0m\u001b[0mappend\u001b[0m\u001b[0;34m(\u001b[0m\u001b[0mx\u001b[0m\u001b[0;34m)\u001b[0m\u001b[0;34m\u001b[0m\u001b[0;34m\u001b[0m\u001b[0m\n",
            "\u001b[0;32m<ipython-input-27-9e5d919cd18f>\u001b[0m in \u001b[0;36mtrain_loop\u001b[0;34m(data, optimizer, criterion_slots, criterion_intents, model)\u001b[0m\n\u001b[1;32m      9\u001b[0m         \u001b[0mloss\u001b[0m \u001b[0;34m=\u001b[0m \u001b[0mloss_intent\u001b[0m\u001b[0;34m+\u001b[0m\u001b[0mloss_slot\u001b[0m \u001b[0;31m# In joint training we sum the losses.\u001b[0m\u001b[0;34m\u001b[0m\u001b[0;34m\u001b[0m\u001b[0m\n\u001b[1;32m     10\u001b[0m         \u001b[0mloss_array\u001b[0m\u001b[0;34m.\u001b[0m\u001b[0mappend\u001b[0m\u001b[0;34m(\u001b[0m\u001b[0mloss\u001b[0m\u001b[0;34m.\u001b[0m\u001b[0mitem\u001b[0m\u001b[0;34m(\u001b[0m\u001b[0;34m)\u001b[0m\u001b[0;34m)\u001b[0m\u001b[0;34m\u001b[0m\u001b[0;34m\u001b[0m\u001b[0m\n\u001b[0;32m---> 11\u001b[0;31m         \u001b[0mloss\u001b[0m\u001b[0;34m.\u001b[0m\u001b[0mbackward\u001b[0m\u001b[0;34m(\u001b[0m\u001b[0;34m)\u001b[0m \u001b[0;31m# Compute the gradient, deleting the computational graph\u001b[0m\u001b[0;34m\u001b[0m\u001b[0;34m\u001b[0m\u001b[0m\n\u001b[0m\u001b[1;32m     12\u001b[0m         \u001b[0moptimizer\u001b[0m\u001b[0;34m.\u001b[0m\u001b[0mstep\u001b[0m\u001b[0;34m(\u001b[0m\u001b[0;34m)\u001b[0m \u001b[0;31m# Update the weights\u001b[0m\u001b[0;34m\u001b[0m\u001b[0;34m\u001b[0m\u001b[0m\n\u001b[1;32m     13\u001b[0m     \u001b[0;32mreturn\u001b[0m \u001b[0mloss_array\u001b[0m\u001b[0;34m\u001b[0m\u001b[0;34m\u001b[0m\u001b[0m\n",
            "\u001b[0;32m/usr/local/lib/python3.7/dist-packages/torch/_tensor.py\u001b[0m in \u001b[0;36mbackward\u001b[0;34m(self, gradient, retain_graph, create_graph, inputs)\u001b[0m\n\u001b[1;32m    394\u001b[0m                 \u001b[0mcreate_graph\u001b[0m\u001b[0;34m=\u001b[0m\u001b[0mcreate_graph\u001b[0m\u001b[0;34m,\u001b[0m\u001b[0;34m\u001b[0m\u001b[0;34m\u001b[0m\u001b[0m\n\u001b[1;32m    395\u001b[0m                 inputs=inputs)\n\u001b[0;32m--> 396\u001b[0;31m         \u001b[0mtorch\u001b[0m\u001b[0;34m.\u001b[0m\u001b[0mautograd\u001b[0m\u001b[0;34m.\u001b[0m\u001b[0mbackward\u001b[0m\u001b[0;34m(\u001b[0m\u001b[0mself\u001b[0m\u001b[0;34m,\u001b[0m \u001b[0mgradient\u001b[0m\u001b[0;34m,\u001b[0m \u001b[0mretain_graph\u001b[0m\u001b[0;34m,\u001b[0m \u001b[0mcreate_graph\u001b[0m\u001b[0;34m,\u001b[0m \u001b[0minputs\u001b[0m\u001b[0;34m=\u001b[0m\u001b[0minputs\u001b[0m\u001b[0;34m)\u001b[0m\u001b[0;34m\u001b[0m\u001b[0;34m\u001b[0m\u001b[0m\n\u001b[0m\u001b[1;32m    397\u001b[0m \u001b[0;34m\u001b[0m\u001b[0m\n\u001b[1;32m    398\u001b[0m     \u001b[0;32mdef\u001b[0m \u001b[0mregister_hook\u001b[0m\u001b[0;34m(\u001b[0m\u001b[0mself\u001b[0m\u001b[0;34m,\u001b[0m \u001b[0mhook\u001b[0m\u001b[0;34m)\u001b[0m\u001b[0;34m:\u001b[0m\u001b[0;34m\u001b[0m\u001b[0;34m\u001b[0m\u001b[0m\n",
            "\u001b[0;32m/usr/local/lib/python3.7/dist-packages/torch/autograd/__init__.py\u001b[0m in \u001b[0;36mbackward\u001b[0;34m(tensors, grad_tensors, retain_graph, create_graph, grad_variables, inputs)\u001b[0m\n\u001b[1;32m    173\u001b[0m     Variable._execution_engine.run_backward(  # Calls into the C++ engine to run the backward pass\n\u001b[1;32m    174\u001b[0m         \u001b[0mtensors\u001b[0m\u001b[0;34m,\u001b[0m \u001b[0mgrad_tensors_\u001b[0m\u001b[0;34m,\u001b[0m \u001b[0mretain_graph\u001b[0m\u001b[0;34m,\u001b[0m \u001b[0mcreate_graph\u001b[0m\u001b[0;34m,\u001b[0m \u001b[0minputs\u001b[0m\u001b[0;34m,\u001b[0m\u001b[0;34m\u001b[0m\u001b[0;34m\u001b[0m\u001b[0m\n\u001b[0;32m--> 175\u001b[0;31m         allow_unreachable=True, accumulate_grad=True)  # Calls into the C++ engine to run the backward pass\n\u001b[0m\u001b[1;32m    176\u001b[0m \u001b[0;34m\u001b[0m\u001b[0m\n\u001b[1;32m    177\u001b[0m def grad(\n",
            "\u001b[0;31mKeyboardInterrupt\u001b[0m: "
          ]
        }
      ],
      "source": [
        "n_epochs = 200\n",
        "losses_train = []\n",
        "losses_dev = []\n",
        "sampled_epochs = []\n",
        "\n",
        "early_stop = EarlyStopping(3)\n",
        "\n",
        "for x in tqdm(range(1,n_epochs)):\n",
        "    loss = train_loop(train_loader_ATIS, optimizer, criterion_slots, criterion_intents, model_ATIS)\n",
        "    if x % 5 == 0:\n",
        "        sampled_epochs.append(x)\n",
        "        losses_train.append(np.asarray(loss).mean())\n",
        "        results_dev, intent_res, loss_dev = eval_loop(dev_loader_ATIS, criterion_slots, criterion_intents, model_ATIS, lang_ATIS)\n",
        "        losses_dev.append(np.asarray(loss_dev).mean())\n",
        "        f1 = results_dev['total']['f']\n",
        "        \n",
        "        if not early_stop.update(f1): \n",
        "            early_stop.reset()    \n",
        "            break\n",
        "\n",
        "#results_test, intent_test, _ = eval_loop(test_loader, criterion_slots, criterion_intents, model, lang)    \n",
        "results_test, intent_test, _, cm_slot, cm_int = eval_loop_wcm(test_loader_ATIS, criterion_slots, criterion_intents, model_ATIS, lang_ATIS)    \n",
        "print('Slot F1: ', results_test['total']['f'])\n",
        "print('Intent Accuracy:', intent_test['accuracy'])"
      ]
    },
    {
      "cell_type": "code",
      "execution_count": null,
      "metadata": {
        "id": "3UHEXtpvDLs4"
      },
      "outputs": [],
      "source": [
        "plot_losses(sampled_epochs, losses_train, losses_dev)\n",
        "\n",
        "plot_confusion_matrix(cm_int, label=\"Intents\")\n",
        "plot_confusion_matrix(cm_slot, label=\"Slots\")"
      ]
    },
    {
      "cell_type": "code",
      "execution_count": null,
      "metadata": {
        "id": "CZs1s3CO0UMc"
      },
      "outputs": [],
      "source": [
        "train_5_times(ModelIAS, train_loader_ATIS, dev_loader_ATIS, test_loader_ATIS, lang_ATIS)"
      ]
    },
    {
      "cell_type": "markdown",
      "metadata": {
        "id": "Lu8wl8_csigi"
      },
      "source": [
        "### SNIPS Training and Testing of Baseline"
      ]
    },
    {
      "cell_type": "code",
      "execution_count": null,
      "metadata": {
        "id": "vP-vjCc8soIb"
      },
      "outputs": [],
      "source": [
        "hid_size = 200\n",
        "emb_size = 300\n",
        "\n",
        "lr = 0.0001 # learning rate\n",
        "clip = 5 # Clip the gradient\n",
        "\n",
        "out_slot_SNIPS = len(lang_SNIPS.slot2id)\n",
        "out_int_SNIPS = len(lang_SNIPS.intent2id)\n",
        "vocab_len_SNIPS = len(lang_SNIPS.word2id)\n",
        "\n",
        "model_SNIPS = ModelIAS(hid_size, out_slot_SNIPS, out_int_SNIPS, emb_size, vocab_len_SNIPS, pad_index=PAD_TOKEN)#.to(device)\n",
        "model_SNIPS.apply(init_weights)\n",
        "\n",
        "optimizer = optim.Adam(model_SNIPS.parameters(), lr=lr)\n",
        "criterion_slots = nn.CrossEntropyLoss(ignore_index=PAD_TOKEN)\n",
        "criterion_intents = nn.CrossEntropyLoss() # Because we do not have the pad token"
      ]
    },
    {
      "cell_type": "code",
      "execution_count": null,
      "metadata": {
        "id": "qOhr803bs35l"
      },
      "outputs": [],
      "source": [
        "n_epochs = 200\n",
        "losses_train = []\n",
        "losses_dev = []\n",
        "sampled_epochs = []\n",
        "\n",
        "early_stop = EarlyStopping(3)\n",
        "\n",
        "for x in tqdm(range(1,n_epochs)):\n",
        "    loss = train_loop(train_loader_SNIPS, optimizer, criterion_slots, criterion_intents, model_SNIPS)\n",
        "    if x % 5 == 0:\n",
        "        sampled_epochs.append(x)\n",
        "        losses_train.append(np.asarray(loss).mean())\n",
        "        results_dev, intent_res, loss_dev = eval_loop(dev_loader_SNIPS, criterion_slots, criterion_intents, model_SNIPS, lang_SNIPS)\n",
        "        losses_dev.append(np.asarray(loss_dev).mean())\n",
        "        f1 = results_dev['total']['f']\n",
        "        \n",
        "        if not early_stop.update(f1): \n",
        "            early_stop.reset()    \n",
        "            break\n",
        "\n",
        "#results_test, intent_test, _ = eval_loop(test_loader, criterion_slots, criterion_intents, model, lang)    \n",
        "results_test, intent_test, _, cm_slot, cm_int = eval_loop_wcm(test_loader_SNIPS, criterion_slots, criterion_intents, model_SNIPS, lang_SNIPS)    \n",
        "print('Slot F1: ', results_test['total']['f'])\n",
        "print('Intent Accuracy:', intent_test['accuracy'])"
      ]
    },
    {
      "cell_type": "code",
      "execution_count": null,
      "metadata": {
        "id": "puHSvxqjXsr8"
      },
      "outputs": [],
      "source": [
        "plot_losses(sampled_epochs, losses_train, losses_dev)\n",
        "\n",
        "plot_confusion_matrix(cm_int, label=\"Intents\")\n",
        "plot_confusion_matrix(cm_slot, label=\"Slots\")"
      ]
    },
    {
      "cell_type": "code",
      "execution_count": null,
      "metadata": {
        "id": "ntamcJe85ZpC"
      },
      "outputs": [],
      "source": [
        "train_5_times(ModelIAS, train_loader_SNIPS, dev_loader_SNIPS, test_loader_SNIPS, lang_SNIPS)"
      ]
    },
    {
      "cell_type": "markdown",
      "metadata": {
        "id": "Pwy702LoGq_E"
      },
      "source": [
        "# BiDirectional GRU model"
      ]
    },
    {
      "cell_type": "code",
      "execution_count": null,
      "metadata": {
        "id": "yjlhh2QPzmQR"
      },
      "outputs": [],
      "source": [
        "import torch.nn.functional as F\n",
        "\n",
        "class BiDirectionalGRUModel(nn.Module):\n",
        "\n",
        "    def __init__(self, hid_size, out_slot, out_int, emb_size, vocab_len, n_layer=1, pad_index=0,  dropout=0.1):\n",
        "        super(BiDirectionalGRUModel, self).__init__()\n",
        "\n",
        "        self.hidden = None\n",
        "        self.dropout = dropout\n",
        "        \n",
        "        self.bidirectionality = True\n",
        "\n",
        "        self.embedding = nn.Embedding(vocab_len, emb_size, padding_idx=pad_index)\n",
        "        \n",
        "        self.gru_cell = nn.GRU(emb_size, hid_size, n_layer, bidirectional=self.bidirectionality)   \n",
        "        \n",
        "        slot_input_size = hid_size * 2 if self.bidirectionality else hid_size \n",
        "        self.slot_out = nn.Linear(slot_input_size, out_slot)\n",
        "        self.intent_out = nn.Linear(hid_size, out_int)\n",
        "        \n",
        "    def forward(self, utterance, seq_lengths):\n",
        "        # utterance.size() = batch_size X seq_len\n",
        "        utt_emb = self.embedding(utterance) # utt_emb.size() = batch_size X seq_len X emb_size\n",
        "        utt_emb = F.dropout(utt_emb, self.dropout)\n",
        "        utt_emb = utt_emb.permute(1,0,2) # we need seq len first -> seq_len X batch_size X emb_size\n",
        "        # Process the batch\n",
        "\n",
        "        packed_input = pack_padded_sequence(utt_emb, seq_lengths.cpu().numpy())\n",
        "\n",
        "        packed_output, self.hidden = self.gru_cell(packed_input) \n",
        "        \n",
        "        packed_output, input_sizes = pad_packed_sequence(packed_output)\n",
        "\n",
        "        packed_output = F.dropout(packed_output, self.dropout)\n",
        "        self.hidden = F.dropout(self.hidden, self.dropout)\n",
        "\n",
        "        last_hidden = self.hidden[-1,:,:]\n",
        "\n",
        "        # Compute slot logits\n",
        "        slots = self.slot_out(packed_output)\n",
        "        # Compute intent logits\n",
        "        intent = self.intent_out(last_hidden)\n",
        "        \n",
        "        # Slot size: seq_len, batch size, calsses \n",
        "        slots = slots.permute(1,2,0) # We need this for computing the loss\n",
        "        # Slot size: batch_size, classes, seq_len\n",
        "        return slots, intent"
      ]
    },
    {
      "cell_type": "markdown",
      "source": [
        "The train loop for the GRU model is modified to use a different loss function (explained better in the report)"
      ],
      "metadata": {
        "id": "kSeU38_Np5NX"
      }
    },
    {
      "cell_type": "code",
      "execution_count": null,
      "metadata": {
        "id": "aty7cjBMCbgN"
      },
      "outputs": [],
      "source": [
        "def train_loop(data, optimizer, criterion_slots, criterion_intents, model):\n",
        "    model.train()\n",
        "    loss_array = []\n",
        "    for i,sample in enumerate(data):\n",
        "        optimizer.zero_grad() # Zeroing the gradient\n",
        "        slots, intent = model(sample['utterances'], sample['slots_len'])\n",
        "        loss_intent = criterion_intents(intent, sample['intents'])\n",
        "        loss_slot = criterion_slots(slots, sample['y_slots'])\n",
        "\n",
        "        # weighted loss from paper\n",
        "        weights, _ = torch.sort(F.softmax(torch.randn(2), dim=-1)) \n",
        "        loss = max(loss_intent, loss_slot) * max(weights[0], weights[1]) + min(loss_intent, loss_slot) * min(weights[0], weights[1])\n",
        "\n",
        "        loss_array.append(loss.item())\n",
        "        loss.backward() # Compute the gradient, deleting the computational graph\n",
        "        optimizer.step() # Update the weights\n",
        "    return loss_array"
      ]
    },
    {
      "cell_type": "markdown",
      "metadata": {
        "id": "dyIMFC9wu61y"
      },
      "source": [
        "### ATIS Bi-Directional Model Training and Testing"
      ]
    },
    {
      "cell_type": "code",
      "execution_count": null,
      "metadata": {
        "id": "_RknQLnkrsfT"
      },
      "outputs": [],
      "source": [
        "hid_size = 200\n",
        "emb_size = 300\n",
        "\n",
        "lr = 0.0001 # learning rate\n",
        "clip = 5 # Clip the gradient\n",
        "\n",
        "bi_model_ATIS = BiDirectionalGRUModel(hid_size, out_slot_ATIS, out_int_ATIS, emb_size, vocab_len_ATIS, pad_index=PAD_TOKEN)#.to(device)\n",
        "bi_model_ATIS.apply(init_weights)\n",
        "\n",
        "optimizer = optim.Adam(bi_model_ATIS.parameters(), lr=lr)\n",
        "criterion_slots = nn.CrossEntropyLoss(ignore_index=PAD_TOKEN)\n",
        "criterion_intents = nn.CrossEntropyLoss() # Because we do not have the pad token"
      ]
    },
    {
      "cell_type": "code",
      "execution_count": null,
      "metadata": {
        "id": "rS5vdVlnCtyu"
      },
      "outputs": [],
      "source": [
        "n_epochs = 200\n",
        "\n",
        "losses_train = []\n",
        "losses_dev = []\n",
        "sampled_epochs = []\n",
        "\n",
        "early_stop = EarlyStopping(3)\n",
        "\n",
        "for x in tqdm(range(1,n_epochs)):\n",
        "    loss = train_loop(train_loader_ATIS, optimizer, criterion_slots, criterion_intents, bi_model_ATIS)\n",
        "    if x % 5 == 0:\n",
        "        sampled_epochs.append(x)\n",
        "        losses_train.append(np.asarray(loss).mean())\n",
        "        results_dev, intent_res, loss_dev = eval_loop(dev_loader_ATIS, criterion_slots, criterion_intents, bi_model_ATIS, lang_ATIS)\n",
        "        losses_dev.append(np.asarray(loss_dev).mean())\n",
        "        if results_dev != None: \n",
        "          f1 = results_dev['total']['f']\n",
        "\n",
        "          if not early_stop.update(f1): \n",
        "              early_stop.reset()\n",
        "              break\n",
        "        else:\n",
        "          print(\"Skipped eval at epoch: \", x) \n",
        "\n",
        "results_test, intent_test, _, cm_slot, cm_int = eval_loop_wcm(test_loader_ATIS, criterion_slots, criterion_intents, bi_model_ATIS, lang_ATIS)    \n",
        "print('Slot F1: ', results_test['total']['f'])\n",
        "print('Intent Accuracy:', intent_test['accuracy'])"
      ]
    },
    {
      "cell_type": "code",
      "execution_count": null,
      "metadata": {
        "id": "XvmrQoFpzmMo"
      },
      "outputs": [],
      "source": [
        "plot_losses(sampled_epochs, losses_train, losses_dev)\n",
        "\n",
        "plot_confusion_matrix(cm_int, label=\"Intents\")\n",
        "plot_confusion_matrix(cm_slot, label=\"Slots\")"
      ]
    },
    {
      "cell_type": "code",
      "execution_count": null,
      "metadata": {
        "id": "hc457f7A5gtK"
      },
      "outputs": [],
      "source": [
        "train_5_times(BiDirectionalGRUModel, train_loader_ATIS, dev_loader_ATIS, test_loader_ATIS, lang_ATIS)"
      ]
    },
    {
      "cell_type": "markdown",
      "metadata": {
        "id": "Qv1zvjEMT5qz"
      },
      "source": [
        "Since training 5 iterations consecutively took too long, each training was executed separately, and mean and variance were calculated in the following way:"
      ]
    },
    {
      "cell_type": "code",
      "execution_count": null,
      "metadata": {
        "id": "sXlB2GyuSBta"
      },
      "outputs": [],
      "source": [
        "f1_results = [0.9306860485729481, 0.929100529100529, 0.9337114498404822,  0.9305949008498584,  0.9329322243850646]\n",
        "acc_results = [0.9518477043673013, 0.9596864501679732, 0.948488241881299, 0.9563269876819709, 0.9574468085106383]\n",
        "\n",
        "f1_mean = sum(f1_results) / len(f1_results)\n",
        "acc_mean = sum(acc_results) / len(acc_results)\n",
        "\n",
        "print(\"F1 Mean: \", f1_mean)\n",
        "print(\"F1 Var: \", round(sum([(f - f1_mean)**2 for f in f1_results]), 4))\n",
        "print(\"Acc Mean: \", acc_mean)\n",
        "print(\"Acc Var: \", round(sum((f - acc_mean)**2 for f in acc_results), 4))"
      ]
    },
    {
      "cell_type": "markdown",
      "metadata": {
        "id": "hpl7hyM4vstE"
      },
      "source": [
        "### SNIPS Bi-Directional Model Training and Testing"
      ]
    },
    {
      "cell_type": "code",
      "execution_count": null,
      "metadata": {
        "id": "ere9i5htGGpa"
      },
      "outputs": [],
      "source": [
        "hid_size = 200\n",
        "emb_size = 300\n",
        "\n",
        "lr = 0.0001 # learning rate\n",
        "clip = 5 # Clip the gradient\n",
        "\n",
        "out_slot_SNIPS = len(lang_SNIPS.slot2id)\n",
        "out_int_SNIPS = len(lang_SNIPS.intent2id)\n",
        "vocab_len_SNIPS = len(lang_SNIPS.word2id)\n",
        "\n",
        "model_SNIPS = BiDirectionalGRUModel(hid_size, out_slot_SNIPS, out_int_SNIPS, emb_size, vocab_len_SNIPS, pad_index=PAD_TOKEN)#.to(device)\n",
        "model_SNIPS.apply(init_weights)\n",
        "\n",
        "optimizer = optim.Adam(model_SNIPS.parameters(), lr=lr)\n",
        "criterion_slots = nn.CrossEntropyLoss(ignore_index=PAD_TOKEN)\n",
        "criterion_intents = nn.CrossEntropyLoss() # Because we do not have the pad token"
      ]
    },
    {
      "cell_type": "code",
      "execution_count": null,
      "metadata": {
        "id": "KgN0TwIEvr84"
      },
      "outputs": [],
      "source": [
        "n_epochs = 200\n",
        "\n",
        "losses_train = []\n",
        "losses_dev = []\n",
        "sampled_epochs = []\n",
        "\n",
        "early_stop = EarlyStopping(3)\n",
        "\n",
        "for x in tqdm(range(1,n_epochs)):\n",
        "    loss = train_loop(train_loader_SNIPS, optimizer, criterion_slots, criterion_intents, model_SNIPS)\n",
        "    if x % 5 == 0:\n",
        "        sampled_epochs.append(x)\n",
        "        losses_train.append(np.asarray(loss).mean())\n",
        "        results_dev, intent_res, loss_dev = eval_loop(dev_loader_SNIPS, criterion_slots, criterion_intents, model_SNIPS, lang_SNIPS)\n",
        "        losses_dev.append(np.asarray(loss_dev).mean())\n",
        "        f1 = results_dev['total']['f']\n",
        "        \n",
        "        if not early_stop.update(f1): \n",
        "            early_stop.reset()    \n",
        "            break\n",
        "\n",
        "#results_test, intent_test, _ = eval_loop(test_loader, criterion_slots, criterion_intents, model, lang)    \n",
        "results_test, intent_test, _, cm_slot, cm_int = eval_loop_wcm(test_loader_SNIPS, criterion_slots, criterion_intents, model_SNIPS, lang_SNIPS)    \n",
        "print('Slot F1: ', results_test['total']['f'])\n",
        "print('Intent Accuracy:', intent_test['accuracy'])"
      ]
    },
    {
      "cell_type": "code",
      "execution_count": null,
      "metadata": {
        "id": "VDStYcNlwIQ-"
      },
      "outputs": [],
      "source": [
        "plot_losses(sampled_epochs, losses_train, losses_dev)\n",
        "\n",
        "plot_confusion_matrix(cm_int, label=\"Intents\")\n",
        "plot_confusion_matrix(cm_slot, label=\"Slots\")"
      ]
    },
    {
      "cell_type": "code",
      "execution_count": null,
      "metadata": {
        "id": "tNv57HKNGJCd"
      },
      "outputs": [],
      "source": [
        "train_5_times(BiDirectionalGRUModel, train_loader_SNIPS, dev_loader_SNIPS, test_loader_SNIPS, lang_SNIPS)"
      ]
    },
    {
      "cell_type": "code",
      "execution_count": null,
      "metadata": {
        "id": "KxTmeYKmM4m7"
      },
      "outputs": [],
      "source": [
        "f1_results = [0.8565229183618117, 0.8674698795180722, 0.850108225108225, 0.8686486486486485,0.8518619189997282]\n",
        "acc_results = [0.9628571428571429, 0.9571428571428572, 0.9685714285714285, 0.96, 0.9557142857142857]\n",
        "\n",
        "f1_mean = sum(f1_results) / len(f1_results)\n",
        "acc_mean = sum(acc_results) / len(acc_results)\n",
        "\n",
        "print(\"F1 Mean: \", f1_mean)\n",
        "print(\"F1 Var: \", round(sum([(f - f1_mean)**2 for f in f1_results]), 4))\n",
        "print(\"Acc Mean: \", acc_mean)\n",
        "print(\"Acc Var: \", round(sum((f - acc_mean)**2 for f in acc_results), 4))"
      ]
    },
    {
      "cell_type": "markdown",
      "metadata": {
        "id": "Qab9MP1QVwxq"
      },
      "source": [
        "# RNN Bidirectional Model"
      ]
    },
    {
      "cell_type": "code",
      "execution_count": null,
      "metadata": {
        "id": "wp1_or7JV1Rd"
      },
      "outputs": [],
      "source": [
        "class BiDirectionalRNNModel(nn.Module):\n",
        "\n",
        "    def __init__(self, hid_size, out_slot, out_int, emb_size, vocab_len, n_layer=2, pad_index=0):\n",
        "        super(BiDirectionalRNNModel, self).__init__()\n",
        "\n",
        "        self.hidden = None\n",
        "        \n",
        "        self.embedding = nn.Embedding(vocab_len, emb_size, padding_idx=pad_index)\n",
        "        \n",
        "        self.rnn_layer = nn.RNN(emb_size, hid_size, n_layer, bidirectional=True)\n",
        "\n",
        "        self.slot_out = nn.Linear(hid_size*2, out_slot)\n",
        "        self.intent_out = nn.Linear(hid_size, out_int)\n",
        "\n",
        "        self.dropout = nn.Dropout(0.1)\n",
        "        \n",
        "    def forward(self, utterance, seq_lengths):\n",
        "        # utterance.size() = batch_size X seq_len\n",
        "        utt_emb = self.embedding(utterance) # utt_emb.size() = batch_size X seq_len X emb_size\n",
        "        utt_emb = self.dropout(utt_emb)\n",
        "        utt_emb = utt_emb.permute(1,0,2) # we need seq len first -> seq_len X batch_size X emb_size\n",
        "              \n",
        "        # Process the batch\n",
        "        encoded_output, self.hidden = self.rnn_layer(utt_emb) \n",
        "        last_hidden = self.hidden[-1,:,:]\n",
        "\n",
        "        encoded_output = self.dropout(encoded_output)\n",
        "        self.hidden = self.dropout(self.hidden)\n",
        "\n",
        "\n",
        "        # Compute slot logits\n",
        "        slots = self.slot_out(encoded_output)\n",
        "        # Compute intent logits\n",
        "        intent = self.intent_out(last_hidden)\n",
        "        \n",
        "        # Slot size: seq_len, batch size, calsses \n",
        "        slots = slots.permute(1,2,0) # We need this for computing the loss\n",
        "        # Slot size: batch_size, classes, seq_len\n",
        "        \n",
        "        return slots, intent"
      ]
    },
    {
      "cell_type": "markdown",
      "metadata": {
        "id": "WmBeTXIrlhB2"
      },
      "source": [
        "### BiDirectional RNN model (ATIS)"
      ]
    },
    {
      "cell_type": "code",
      "execution_count": null,
      "metadata": {
        "id": "wEFYhbyKV3oL"
      },
      "outputs": [],
      "source": [
        "hid_size = 200\n",
        "emb_size = 300\n",
        "\n",
        "lr = 0.0001 # learning rate\n",
        "clip = 5 # Clip the gradient\n",
        "\n",
        "model_ATIS = BiDirectionalRNNModel(hid_size, out_slot_ATIS, out_int_ATIS, emb_size, vocab_len_ATIS, pad_index=PAD_TOKEN)#.to(device)\n",
        "model_ATIS.apply(init_weights)\n",
        "\n",
        "optimizer = optim.Adam(model_ATIS.parameters(), lr=lr)\n",
        "criterion_slots = nn.CrossEntropyLoss(ignore_index=PAD_TOKEN)\n",
        "criterion_intents = nn.CrossEntropyLoss() # Because we do not have the pad token"
      ]
    },
    {
      "cell_type": "code",
      "execution_count": null,
      "metadata": {
        "id": "6WsP4RjZkJBF"
      },
      "outputs": [],
      "source": [
        "n_epochs = 200\n",
        "\n",
        "losses_train = []\n",
        "losses_dev = []\n",
        "sampled_epochs = []\n",
        "\n",
        "early_stop = EarlyStopping(3)\n",
        "\n",
        "for x in tqdm(range(1,n_epochs)):\n",
        "    loss = train_loop(train_loader_ATIS, optimizer, criterion_slots, criterion_intents, model_ATIS)\n",
        "    if x % 5 == 0:\n",
        "        sampled_epochs.append(x)\n",
        "        losses_train.append(np.asarray(loss).mean())\n",
        "        results_dev, intent_res, loss_dev = eval_loop(dev_loader_ATIS, criterion_slots, criterion_intents, model_ATIS, lang_ATIS)\n",
        "        losses_dev.append(np.asarray(loss_dev).mean())\n",
        "        if results_dev != None: \n",
        "          f1 = results_dev['total']['f']\n",
        "\n",
        "          if not early_stop.update(f1): \n",
        "              early_stop.reset()\n",
        "              break\n",
        "        else:\n",
        "          print(\"Skipped eval at epoch: \", x) \n",
        "\n",
        "results_test, intent_test, _, cm_slot, cm_int = eval_loop_wcm(test_loader_ATIS, criterion_slots, criterion_intents, model_ATIS, lang_ATIS)    \n",
        "print('Slot F1: ', results_test['total']['f'])\n",
        "print('Intent Accuracy:', intent_test['accuracy'])"
      ]
    },
    {
      "cell_type": "code",
      "execution_count": null,
      "metadata": {
        "id": "Vfg3BQ17l8w1"
      },
      "outputs": [],
      "source": [
        "plot_losses(sampled_epochs, losses_train, losses_dev)\n",
        "\n",
        "plot_confusion_matrix(cm_int, label=\"Intents\")\n",
        "plot_confusion_matrix(cm_slot, label=\"Slots\")"
      ]
    },
    {
      "cell_type": "code",
      "execution_count": null,
      "metadata": {
        "id": "0dprtluX5ip3"
      },
      "outputs": [],
      "source": [
        "train_5_times(BiDirectionalRNNModel, train_loader_ATIS, dev_loader_ATIS, test_loader_ATIS, lang_ATIS)"
      ]
    },
    {
      "cell_type": "markdown",
      "metadata": {
        "id": "wsN97QcIlox-"
      },
      "source": [
        "### BiDirectional RNN model SNIPS"
      ]
    },
    {
      "cell_type": "code",
      "execution_count": null,
      "metadata": {
        "id": "wKRayLrblvlf"
      },
      "outputs": [],
      "source": [
        "hid_size = 200\n",
        "emb_size = 300\n",
        "\n",
        "lr = 0.0001 # learning rate\n",
        "clip = 5 # Clip the gradient\n",
        "\n",
        "out_slot_SNIPS = len(lang_SNIPS.slot2id)\n",
        "out_int_SNIPS = len(lang_SNIPS.intent2id)\n",
        "vocab_len_SNIPS = len(lang_SNIPS.word2id)\n",
        "\n",
        "model_SNIPS = BiDirectionalRNNModel(hid_size, out_slot_SNIPS, out_int_SNIPS, emb_size, vocab_len_SNIPS, pad_index=PAD_TOKEN)#.to(device)\n",
        "model_SNIPS.apply(init_weights)\n",
        "\n",
        "optimizer = optim.Adam(model_SNIPS.parameters(), lr=lr)\n",
        "criterion_slots = nn.CrossEntropyLoss(ignore_index=PAD_TOKEN)\n",
        "criterion_intents = nn.CrossEntropyLoss() # Because we do not have the pad token"
      ]
    },
    {
      "cell_type": "code",
      "execution_count": null,
      "metadata": {
        "id": "uXa8dNDDl1kX"
      },
      "outputs": [],
      "source": [
        "n_epochs = 200\n",
        "\n",
        "losses_train = []\n",
        "losses_dev = []\n",
        "sampled_epochs = []\n",
        "\n",
        "early_stop = EarlyStopping(2)\n",
        "\n",
        "for x in tqdm(range(1,n_epochs)):\n",
        "    loss = train_loop(train_loader_SNIPS, optimizer, criterion_slots, criterion_intents, model_SNIPS)\n",
        "    if x % 5 == 0:\n",
        "        sampled_epochs.append(x)\n",
        "        losses_train.append(np.asarray(loss).mean())\n",
        "        results_dev, intent_res, loss_dev = eval_loop(dev_loader_SNIPS, criterion_slots, criterion_intents, model_SNIPS, lang_SNIPS)\n",
        "        losses_dev.append(np.asarray(loss_dev).mean())\n",
        "        f1 = results_dev['total']['f']\n",
        "        \n",
        "        if not early_stop.update(f1): \n",
        "            early_stop.reset()    \n",
        "            break\n",
        "\n",
        "#results_test, intent_test, _ = eval_loop(test_loader, criterion_slots, criterion_intents, model, lang)    \n",
        "results_test, intent_test, _, cm_slot, cm_int = eval_loop_wcm(test_loader_SNIPS, criterion_slots, criterion_intents, model_SNIPS, lang_SNIPS)    \n",
        "print('Slot F1: ', results_test['total']['f'])\n",
        "print('Intent Accuracy:', intent_test['accuracy'])"
      ]
    },
    {
      "cell_type": "code",
      "execution_count": null,
      "metadata": {
        "id": "fBlfqFptl8Ab"
      },
      "outputs": [],
      "source": [
        "plot_losses(sampled_epochs, losses_train, losses_dev)\n",
        "\n",
        "plot_confusion_matrix(cm_int, label=\"Intents\")\n",
        "plot_confusion_matrix(cm_slot, label=\"Slots\")"
      ]
    },
    {
      "cell_type": "code",
      "execution_count": null,
      "metadata": {
        "id": "sfTCpmwy2Xej"
      },
      "outputs": [],
      "source": [
        "train_5_times(BiDirectionalRNNModel, train_loader_SNIPS, dev_loader_SNIPS, test_loader_SNIPS, lang_SNIPS)"
      ]
    },
    {
      "cell_type": "code",
      "execution_count": null,
      "metadata": {
        "id": "N-DP9IpEMvUy"
      },
      "outputs": [],
      "source": [
        "f1_results = [0.8394062078272604, 0.8304252998909487, 0.8709413369713506,  0.8570650694255376, 0.8687807545106616]\n",
        "acc_results = [0.9528571428571428, 0.9671428571428572, 0.9657142857142857, 0.9671428571428572, 0.9685714285714285]\n",
        "\n",
        "f1_mean = sum(f1_results) / len(f1_results)\n",
        "acc_mean = sum(acc_results) / len(acc_results)\n",
        "\n",
        "print(\"F1 Mean: \", f1_mean)\n",
        "print(\"F1 Var: \", round(sum([(f - f1_mean)**2 for f in f1_results]), 4))\n",
        "print(\"Acc Mean: \", acc_mean)\n",
        "print(\"Acc Var: \", round(sum((f - acc_mean)**2 for f in acc_results), 4))"
      ]
    },
    {
      "cell_type": "markdown",
      "metadata": {
        "id": "mz1paFOe2O5P"
      },
      "source": [
        "# EncoderDecoderModel"
      ]
    },
    {
      "cell_type": "code",
      "execution_count": null,
      "metadata": {
        "id": "bwLFur_P9QKn"
      },
      "outputs": [],
      "source": [
        "import torch.nn as nn\n",
        "from torch.nn.utils.rnn import pack_padded_sequence, pad_packed_sequence\n",
        "import torch.nn.functional as F\n",
        "import math"
      ]
    },
    {
      "cell_type": "markdown",
      "source": [
        "EncoderDecoderModel is the  simpler version of the two models implemented following the paper `A Bi-model based RNN Semantic Frame Parsing Model for Intent Detection and Slot Filling.`. \n",
        "The forward pass for this architecture is very similar to the baseline and, implemented this way, it works similarly to appending more recursive layers to the model (`n_layer=2`)."
      ],
      "metadata": {
        "id": "eec8K-r4qWzJ"
      }
    },
    {
      "cell_type": "code",
      "execution_count": null,
      "metadata": {
        "id": "VbjdhIQ52SEr"
      },
      "outputs": [],
      "source": [
        "class EncoderDecoderModel(nn.Module):\n",
        "\n",
        "    def __init__(self, hid_size, out_slot, out_int, emb_size, vocab_len, n_layer=1, pad_index=0, dropout=0.1):\n",
        "        super(EncoderDecoderModel, self).__init__()\n",
        "\n",
        "        self.hidden = None\n",
        "        self.dropout = nn.Dropout(dropout)\n",
        "\n",
        "        # Encoder\n",
        "        self.embedding = nn.Embedding(vocab_len, emb_size, padding_idx=pad_index)\n",
        "        self.enc_gru = nn.GRU(emb_size, hid_size, n_layer, bidirectional=False)  \n",
        "                        \n",
        "        # Decoder Intent\n",
        "        self.dec_gru_int = nn.GRU(hid_size, hid_size, n_layer, bidirectional=False)\n",
        "        self.intent_out = nn.Linear(hid_size, out_int)\n",
        "\n",
        "        # Decoder Slot\n",
        "        self.dec_gru_slot = nn.GRU(hid_size, hid_size, n_layer, bidirectional=False)\n",
        "        self.slot_out = nn.Linear(hid_size, out_slot)\n",
        "\n",
        "        \n",
        "    def forward(self, utterance, seq_lengths):\n",
        "        embedded_utt = self.embedding(utterance) \n",
        "        embedded_utt = self.dropout(embedded_utt)\n",
        "        embedded_utt = embedded_utt.permute(1,0,2) \n",
        "\n",
        "        # Encoding\n",
        "        embedded_utt_packed = pack_padded_sequence(embedded_utt, seq_lengths.cpu().numpy())\n",
        "        packed_output, self.hidden = self.enc_gru(embedded_utt_packed) \n",
        "        unpacked_output, input_sizes = pad_packed_sequence(packed_output)\n",
        "\n",
        "        last_hidden = self.hidden[-1,:,:]\n",
        "        \n",
        "        # Decoding INTENT\n",
        "        out_int, self.hidden = self.dec_gru_int(last_hidden) \n",
        "        out_int = self.dropout(out_int)\n",
        "        intent = self.intent_out(out_int)\n",
        "\n",
        "        # Decoding SLOTS\n",
        "        out_slot, self.hidden = self.dec_gru_slot(unpacked_output) \n",
        "        slots = self.slot_out(out_slot)\n",
        "        slots = self.dropout(slots)\n",
        "        slots = slots.permute(1,2,0) \n",
        "\n",
        "        return slots, intent\n"
      ]
    },
    {
      "cell_type": "markdown",
      "source": [
        "EncoderDecoderModelTest is the more resembling model to the one in the paper. The forward pass iterates over all tokens in the sentence, so training is extremely slow."
      ],
      "metadata": {
        "id": "HiIKJ3a1rGaA"
      }
    },
    {
      "cell_type": "code",
      "execution_count": null,
      "metadata": {
        "id": "VkRXt8OBGtzg"
      },
      "outputs": [],
      "source": [
        "class EncoderDecoderModelTest(nn.Module):\n",
        "\n",
        "    def __init__(self, hid_size, out_slot, out_int, emb_size, vocab_len, n_layer=1, pad_index=0, dropout=0.1):\n",
        "        super(EncoderDecoderModelTest, self).__init__()\n",
        "\n",
        "        self.hid_size = hid_size\n",
        "        self.hidden = None\n",
        "        self.dropout = nn.Dropout(dropout)\n",
        "\n",
        "        self.embedding = nn.Embedding(vocab_len, emb_size, padding_idx=pad_index)\n",
        "\n",
        "        # Encoder Intent\n",
        "        self.enc_gru_int = nn.GRU(emb_size, hid_size, n_layer, bidirectional=False)  \n",
        "\n",
        "        # Encoder Slots\n",
        "        self.enc_gru_slot = nn.GRU(emb_size, hid_size, n_layer, bidirectional=False)  \n",
        "\n",
        "        # Decoder Intent\n",
        "        self.dec_gru_int = nn.GRU(hid_size*2, hid_size, n_layer, bidirectional=False)\n",
        "        self.intent_out = nn.Linear(hid_size, out_int)\n",
        "\n",
        "        # Decoder Slot\n",
        "        self.dec_gru_slot = nn.GRU(hid_size*3, hid_size, n_layer, bidirectional=False)\n",
        "        self.slot_out = nn.Linear(hid_size, out_slot)\n",
        "\n",
        "        \n",
        "    def forward(self, utterance, seq_lengths):\n",
        "        embedded_utt = self.embedding(utterance) \n",
        "        embedded_utt = embedded_utt.permute(1,0,2) \n",
        "\n",
        "        # Encoding INTENT\n",
        "        hi, hidden = self.enc_gru_int(embedded_utt) \n",
        "        hidden = hidden[-1,:,:]\n",
        "\n",
        "        # Encoding SLOTS\n",
        "        hs, _ = self.enc_gru_slot(embedded_utt) \n",
        "\n",
        "        # Decoding SLOTS\n",
        "        unpacked_output = torch.cat((hs, hi), dim=-1)\n",
        "        out = torch.zeros(unpacked_output.size(1), 1, self.hid_size)\n",
        "        hidden_state = torch.zeros(1, 1, self.hid_size)\n",
        "\n",
        "        all_out = []\n",
        "        length = unpacked_output.size(0)\n",
        "        for i in range(length):\n",
        "            inp = torch.cat((unpacked_output[i].unsqueeze(1), out), dim=-1)\n",
        "            out, hidden_state = self.dec_gru_slot(inp, hidden_state)\n",
        "            all_out.append(out)\n",
        "        out_slot = torch.cat(all_out, dim=1)\n",
        "        out_slot = out_slot.permute(1,0,2) # seq_len x batch_size x feature_size\n",
        "\n",
        "        slots = self.slot_out(out_slot)\n",
        "        slots = self.dropout(slots)\n",
        "\n",
        "        slots = slots.permute(1,2,0) \n",
        "        slots = F.log_softmax(slots, dim=1)\n",
        "\n",
        "        # Decoding INTENT\n",
        "        batch = hi.size()[1]\n",
        "        dec_int_input = torch.cat((hi, hs), dim=-1)\n",
        "        \n",
        "        out_int, self.hidden = self.dec_gru_int(dec_int_input) \n",
        "        #out_int, self.hidden = self.dec_gru_int(hidden) \n",
        "        out_int = self.dropout(out_int)\n",
        "        out_int = out_int.permute(1,0,2) \n",
        "\n",
        "        index = torch.arange(batch).long()\n",
        "        state = out_int[index, seq_lengths-1, :]\n",
        "        \n",
        "        intent = self.intent_out(state.squeeze())        \n",
        "        #intent = self.intent_out(out_int)\n",
        "\n",
        "        return slots, intent\n"
      ]
    },
    {
      "cell_type": "markdown",
      "metadata": {
        "id": "ibf3XvIKiRgJ"
      },
      "source": [
        "### EncoderDecoder model training and testing with ATIS"
      ]
    },
    {
      "cell_type": "code",
      "execution_count": null,
      "metadata": {
        "id": "NFVTO-TJiuN5"
      },
      "outputs": [],
      "source": [
        "hid_size = 200\n",
        "emb_size = 300\n",
        "\n",
        "lr = 0.0001 # learning rate\n",
        "clip = 5 # Clip the gradient\n",
        "\n",
        "out_slot_ATIS = len(lang_ATIS.slot2id)\n",
        "out_int_ATIS = len(lang_ATIS.intent2id)\n",
        "vocab_len_ATIS = len(lang_ATIS.word2id)\n",
        "\n",
        "model_ATIS = EncoderDecoderModelTest(hid_size, out_slot_ATIS, out_int_ATIS, emb_size, vocab_len_ATIS, pad_index=PAD_TOKEN)#.to(device)\n",
        "model_ATIS.apply(init_weights)\n",
        "\n",
        "optimizer = optim.Adam(model_ATIS.parameters(), lr=lr)\n",
        "criterion_slots = nn.CrossEntropyLoss(ignore_index=PAD_TOKEN)\n",
        "criterion_intents = nn.CrossEntropyLoss() # Because we do not have the pad token"
      ]
    },
    {
      "cell_type": "code",
      "execution_count": null,
      "metadata": {
        "id": "5TDXqc3a9Nea"
      },
      "outputs": [],
      "source": [
        "n_epochs = 100\n",
        "losses_train = []\n",
        "losses_dev = []\n",
        "sampled_epochs = []\n",
        "\n",
        "early_stop = EarlyStopping(20)\n",
        "\n",
        "for x in tqdm(range(1,n_epochs)):\n",
        "    loss = train_loop(train_loader_ATIS, optimizer, criterion_slots, criterion_intents, model_ATIS)\n",
        "    if x % 5 == 0:\n",
        "        sampled_epochs.append(x)\n",
        "        losses_train.append(np.asarray(loss).mean())\n",
        "        results_dev, intent_res, loss_dev = eval_loop(dev_loader_ATIS, criterion_slots, criterion_intents, model_ATIS, lang_ATIS)\n",
        "        losses_dev.append(np.asarray(loss_dev).mean())\n",
        "        f1 = results_dev['total']['f']\n",
        "        \n",
        "        if not early_stop.update(f1): \n",
        "            early_stop.reset()    \n",
        "            break\n",
        "\n",
        "#results_test, intent_test, _ = eval_loop(test_loader, criterion_slots, criterion_intents, model, lang)    \n",
        "results_test, intent_test, _, cm_slot, cm_int = eval_loop_wcm(test_loader_ATIS, criterion_slots, criterion_intents, model_ATIS, lang_ATIS)    \n",
        "print('Slot F1: ', results_test['total']['f'])\n",
        "print('Intent Accuracy:', intent_test['accuracy'])"
      ]
    },
    {
      "cell_type": "code",
      "execution_count": null,
      "metadata": {
        "id": "Gy4ZtevJQinl"
      },
      "outputs": [],
      "source": [
        "plot_losses(sampled_epochs, losses_train, losses_dev)\n",
        "\n",
        "plot_confusion_matrix(cm_int, label=\"Intents\")\n",
        "plot_confusion_matrix(cm_slot, label=\"Slots\")"
      ]
    },
    {
      "cell_type": "code",
      "execution_count": null,
      "metadata": {
        "id": "YK_sUa-8fXi6"
      },
      "outputs": [],
      "source": [
        "train_5_times(EncoderDecoderModel, train_loader_ATIS, dev_loader_ATIS, test_loader_ATIS, lang_ATIS)"
      ]
    },
    {
      "cell_type": "markdown",
      "metadata": {
        "id": "5CVZ9mq8icGY"
      },
      "source": [
        "### EncoderDecoder model training and testing with SNIPS"
      ]
    },
    {
      "cell_type": "code",
      "execution_count": null,
      "metadata": {
        "id": "LbWKerAdjC2c"
      },
      "outputs": [],
      "source": [
        "hid_size = 200\n",
        "emb_size = 300\n",
        "\n",
        "lr = 0.0001 # learning rate\n",
        "clip = 5 # Clip the gradient\n",
        "\n",
        "out_slot_SNIPS = len(lang_SNIPS.slot2id)\n",
        "out_int_SNIPS = len(lang_SNIPS.intent2id)\n",
        "vocab_len_SNIPS = len(lang_SNIPS.word2id)\n",
        "\n",
        "model_SNIPS = EncoderDecoderModelTest(hid_size, out_slot_SNIPS, out_int_SNIPS, emb_size, vocab_len_SNIPS, pad_index=PAD_TOKEN)#.to(device)\n",
        "model_SNIPS.apply(init_weights)\n",
        "\n",
        "optimizer = optim.Adam(model_SNIPS.parameters(), lr=lr)\n",
        "criterion_slots = nn.CrossEntropyLoss(ignore_index=PAD_TOKEN)\n",
        "criterion_intents = nn.CrossEntropyLoss() # Because we do not have the pad token"
      ]
    },
    {
      "cell_type": "code",
      "execution_count": null,
      "metadata": {
        "id": "YA8EcvpxihYR",
        "colab": {
          "base_uri": "https://localhost:8080/"
        },
        "outputId": "9f6b5741-9718-4ce5-bb22-138362eea9de"
      },
      "outputs": [
        {
          "output_type": "stream",
          "name": "stderr",
          "text": [
            "100%|██████████| 99/99 [4:57:07<00:00, 180.07s/it]\n"
          ]
        },
        {
          "output_type": "stream",
          "name": "stdout",
          "text": [
            "Slot F1:  0.8157539789587267\n",
            "Intent Accuracy: 0.9657142857142857\n"
          ]
        }
      ],
      "source": [
        "n_epochs = 100\n",
        "losses_train = []\n",
        "losses_dev = []\n",
        "sampled_epochs = []\n",
        "\n",
        "early_stop = EarlyStopping(10)\n",
        "\n",
        "for x in tqdm(range(1,n_epochs)):\n",
        "    loss = train_loop(train_loader_SNIPS, optimizer, criterion_slots, criterion_intents, model_SNIPS)\n",
        "    if x % 5 == 0:\n",
        "        sampled_epochs.append(x)\n",
        "        losses_train.append(np.asarray(loss).mean())\n",
        "        results_dev, intent_res, loss_dev = eval_loop(dev_loader_SNIPS, criterion_slots, criterion_intents, model_SNIPS, lang_SNIPS)\n",
        "        losses_dev.append(np.asarray(loss_dev).mean())\n",
        "        f1 = results_dev['total']['f']\n",
        "        \n",
        "        if not early_stop.update(f1): \n",
        "            early_stop.reset()    \n",
        "            break\n",
        "\n",
        "#results_test, intent_test, _ = eval_loop(test_loader, criterion_slots, criterion_intents, model, lang)    \n",
        "results_test, intent_test, _, cm_slot, cm_int = eval_loop_wcm(test_loader_SNIPS, criterion_slots, criterion_intents, model_SNIPS, lang_SNIPS)    \n",
        "print('Slot F1: ', results_test['total']['f'])\n",
        "print('Intent Accuracy:', intent_test['accuracy'])"
      ]
    },
    {
      "cell_type": "code",
      "execution_count": null,
      "metadata": {
        "id": "Od3yHYLRijHv",
        "colab": {
          "base_uri": "https://localhost:8080/",
          "height": 1000
        },
        "outputId": "112d7c59-b07f-4654-da45-312c392c3ae0"
      },
      "outputs": [
        {
          "output_type": "display_data",
          "data": {
            "text/plain": [
              "<Figure size 576x360 with 1 Axes>"
            ],
            "image/png": "[encoded data removed]"
          },
          "metadata": {}
        },
        {
          "output_type": "display_data",
          "data": {
            "text/plain": [
              "<Figure size 720x720 with 1 Axes>"
            ],
            "image/png": "[encoded data removed]"
          },
          "metadata": {
            "needs_background": "light"
          }
        },
        {
          "output_type": "display_data",
          "data": {
            "text/plain": [
              "<Figure size 720x720 with 1 Axes>"
            ],
            "image/png": "[encoded data removed]"
          },
          "metadata": {
            "needs_background": "light"
          }
        }
      ],
      "source": [
        "plot_losses(sampled_epochs, losses_train, losses_dev)\n",
        "\n",
        "plot_confusion_matrix(cm_int, label=\"Intents\")\n",
        "plot_confusion_matrix(cm_slot, label=\"Slots\")"
      ]
    },
    {
      "cell_type": "code",
      "execution_count": null,
      "metadata": {
        "id": "cTHkE3c-e8AQ"
      },
      "outputs": [],
      "source": [
        "train_5_times(EncoderDecoderModel, train_loader_SNIPS, dev_loader_SNIPS, test_loader_SNIPS, lang_SNIPS)"
      ]
    },
    {
      "cell_type": "markdown",
      "source": [
        "These results are averaged from the training of the simpler model (EncoderDecoderModel, not EncoderDecoderModelTest), as training for the more complex architecture took over two  hours for 100 epochs"
      ],
      "metadata": {
        "id": "fljUu37_4bsC"
      }
    },
    {
      "cell_type": "code",
      "execution_count": null,
      "metadata": {
        "id": "U1i3NDovKMS5"
      },
      "outputs": [],
      "source": [
        "f1_results = [0.7960064759848893, 0.805697393173878, 0.7678476996298254,  0.7956873315363883, 0.7765089722675367]\n",
        "acc_results = [0.97, 0.9671428571428572, 0.9657142857142857, 0.9671428571428572, 0.9642857142857143]\n",
        "\n",
        "f1_mean = sum(f1_results) / len(f1_results)\n",
        "acc_mean = sum(acc_results) / len(acc_results)\n",
        "\n",
        "print(\"F1 Mean: \", f1_mean)\n",
        "print(\"F1 Var: \", round(sum([(f - f1_mean)**2 for f in f1_results]), 4))\n",
        "print(\"Acc Mean: \", acc_mean)\n",
        "print(\"Acc Var: \", round(sum((f - acc_mean)**2 for f in acc_results), 6))"
      ]
    }
  ],
  "metadata": {
    "accelerator": "GPU",
    "colab": {
      "collapsed_sections": [
        "WHEyWj7DCx_c",
        "zCO6OoUOCsc3",
        "f0OpLuhznjpR",
        "0Gqu80ZnSfeg",
        "BfxYB_yRCQj2",
        "IO83hCbAKGiO",
        "CFUz-wL9-sxi",
        "_sfLELAWR-2j",
        "00Xe6IXuCOMo",
        "DQmgc1gRCcOf",
        "Lu8wl8_csigi",
        "Pwy702LoGq_E",
        "dyIMFC9wu61y",
        "hpl7hyM4vstE",
        "Qab9MP1QVwxq",
        "WmBeTXIrlhB2",
        "wsN97QcIlox-"
      ],
      "name": "NLU.ipynb",
      "provenance": []
    },
    "gpuClass": "standard",
    "kernelspec": {
      "display_name": "Python 3",
      "name": "python3"
    },
    "language_info": {
      "name": "python"
    }
  },
  "nbformat": 4,
  "nbformat_minor": 0
}